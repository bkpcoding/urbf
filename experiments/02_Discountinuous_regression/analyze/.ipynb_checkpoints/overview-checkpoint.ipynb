{
 "cells": [
  {
   "cell_type": "code",
   "execution_count": 1,
   "metadata": {
    "code_folding": [],
    "scrolled": false
   },
   "outputs": [
    {
     "data": {
      "application/vnd.jupyter.widget-view+json": {
       "model_id": "23b19f12eec64032b743189cddad0d53",
       "version_major": 2,
       "version_minor": 0
      },
      "text/plain": [
       "ExperimentDataLoaderWidget(children=(Box(children=(Button(description='Update Descriptions', layout=Layout(hei…"
      ]
     },
     "metadata": {},
     "output_type": "display_data"
    },
    {
     "data": {
      "application/vnd.jupyter.widget-view+json": {
       "model_id": "b9f343a744314eafb2285e7823e3426e",
       "version_major": 2,
       "version_minor": 0
      },
      "text/plain": [
       "Output()"
      ]
     },
     "metadata": {},
     "output_type": "display_data"
    }
   ],
   "source": [
    "# import the experiment utilities package\n",
    "import exputils as eu\n",
    "import numpy as np\n",
    "\n",
    "# create an experiment data loader, by default it will load data from '../experiments'\n",
    "experiment_data_loader = eu.gui.jupyter.ExperimentDataLoaderWidget()\n",
    "display(experiment_data_loader)"
   ]
  },
  {
   "cell_type": "code",
   "execution_count": 6,
   "metadata": {},
   "outputs": [
    {
     "name": "stdout",
     "output_type": "stream",
     "text": [
      "/home/sagar/inria/experiments/3d_curve/3d_exp_discountinous_full_epoch/analyze\n"
     ]
    }
   ],
   "source": [
    "#experiment_data_loader.experiment_data['200001'].repetition_data[0]\n",
    "import importlib.util\n",
    "import os\n",
    "print(os.getcwd())\n",
    "#spec = importlib.util.spec_from_file_location('xx', './plot_loss.py')\n",
    "#module = importlib.util.module_from_spec(spec)\n",
    "#spec.loader.exec_module(module)\n",
    "#plot_loss = module.plot_loss"
   ]
  },
  {
   "cell_type": "code",
   "execution_count": null,
   "metadata": {
    "code_folding": [],
    "scrolled": false
   },
   "outputs": [],
   "source": [
    "# experiment data selection plotter that takes as input the data loader to plot its loaded data\n",
    "experiment_data_plotter = eu.gui.jupyter.ExperimentDataPlotSelectionWidget(experiment_data_loader)\n",
    "display(experiment_data_plotter)"
   ]
  },
  {
   "cell_type": "code",
   "execution_count": 37,
   "metadata": {
    "code_folding": []
   },
   "outputs": [
    {
     "data": {
      "application/vnd.jupyter.widget-view+json": {
       "model_id": "7b77fe4a659f4114ac6147b5d8e46f71",
       "version_major": 2,
       "version_minor": 0
      },
      "text/plain": [
       "ExperimentDataPlotSelectionWidget(children=(HBox(children=(Label(value='Experiments:', layout=Layout(min_width…"
      ]
     },
     "metadata": {},
     "output_type": "display_data"
    },
    {
     "data": {
      "application/vnd.jupyter.widget-view+json": {
       "model_id": "dc6ec605edf14c64993e84fad7de231c",
       "version_major": 2,
       "version_minor": 0
      },
      "text/plain": [
       "Output()"
      ]
     },
     "metadata": {},
     "output_type": "display_data"
    }
   ],
   "source": [
    "# Plotting of ['TestLoss'] \n",
    "import exputils as eu\n",
    "from exputils.gui.jupyter.plotly_box import plotly_box\n",
    "\n",
    "plot_config = eu.AttrDict(\n",
    "layout = dict(\n",
    "    xaxis = dict(\n",
    "        title = '', \n",
    "        range = [None, None] \n",
    "        ),\n",
    "    yaxis = dict(\n",
    "        title = '', \n",
    "        range = [None, None] \n",
    "        )\n",
    "    ))\n",
    "\n",
    "selection_widget = eu.gui.jupyter.ExperimentDataPlotSelectionWidget(\n",
    "    experiment_data_loader,\n",
    "    datasources=['TestLoss'],\n",
    "    experiment_ids='all',\n",
    "    repetition_ids='all',\n",
    "    output_format=('S', 'E', 'D'),\n",
    "    data_filter='',\n",
    "    plot_function=plotly_box,\n",
    "    plot_function_config=plot_config,\n",
    "    state_backup_name='state_backup_78054427',\n",
    "    state_backup_variable_filter=['experiment_ids', 'repetition_ids'],  # only save these variables as backup\n",
    "    is_datasources_selection=False,\n",
    "    is_output_format_selection=False,\n",
    "    is_data_filter_selection=False,\n",
    "    is_plot_function_selection=False,\n",
    "    is_plot_function_config_editor=False,\n",
    "    is_code_producer=False) \n",
    "display(selection_widget)\n",
    "selection_widget.plot_data()"
   ]
  },
  {
   "cell_type": "code",
   "execution_count": 36,
   "metadata": {
    "code_folding": [
     0
    ]
   },
   "outputs": [
    {
     "data": {
      "application/vnd.jupyter.widget-view+json": {
       "model_id": "d682923f7314463aa64c5f1f33705422",
       "version_major": 2,
       "version_minor": 0
      },
      "text/plain": [
       "ExperimentDataPlotSelectionWidget(children=(HBox(children=(Label(value='Experiments:', layout=Layout(min_width…"
      ]
     },
     "metadata": {},
     "output_type": "display_data"
    },
    {
     "data": {
      "application/vnd.jupyter.widget-view+json": {
       "model_id": "f5cdc344fc74419dbeecd395da791bea",
       "version_major": 2,
       "version_minor": 0
      },
      "text/plain": [
       "Output()"
      ]
     },
     "metadata": {},
     "output_type": "display_data"
    }
   ],
   "source": [
    "# Plotting of ['Loss[-1]', 'Error', 'TestLoss'] \n",
    "import exputils as eu\n",
    "from exputils.gui.jupyter.tabulate_meanstd import tabulate_meanstd\n",
    "\n",
    "plot_config = eu.AttrDict(\n",
    "primary_content_function = np.nanmean,\n",
    "secondary_content_function = np.nanstd,\n",
    "flip_rows_and_cols = True,\n",
    "tabulate=eu.AttrDict(\n",
    "            tablefmt='html', #\n",
    "            numalign='right',\n",
    "        ),\n",
    "cell_format = '{:.3f} ({:.3f})',\n",
    "top_left_cell_content = '')\n",
    "\n",
    "selection_widget = eu.gui.jupyter.ExperimentDataPlotSelectionWidget(\n",
    "    experiment_data_loader,\n",
    "    datasources=['Loss[-1]', 'Error', 'TestLoss'],\n",
    "    experiment_ids='all',\n",
    "    repetition_ids='all',\n",
    "    output_format=('S', 'E', 'D'),\n",
    "    data_filter='',\n",
    "    plot_function=tabulate_meanstd,\n",
    "    plot_function_config=plot_config,\n",
    "    state_backup_name='state_backup_78054198',\n",
    "    state_backup_variable_filter=['experiment_ids', 'repetition_ids'],  # only save these variables as backup\n",
    "    is_datasources_selection=False,\n",
    "    is_output_format_selection=False,\n",
    "    is_data_filter_selection=False,\n",
    "    is_plot_function_selection=False,\n",
    "    is_plot_function_config_editor=False,\n",
    "    is_code_producer=False) \n",
    "display(selection_widget)\n",
    "selection_widget.plot_data()"
   ]
  },
  {
   "cell_type": "markdown",
   "metadata": {
    "heading_collapsed": true
   },
   "source": [
    "# Test Accuracy"
   ]
  },
  {
   "cell_type": "code",
   "execution_count": 3,
   "metadata": {
    "code_folding": [
     0
    ],
    "hidden": true
   },
   "outputs": [
    {
     "data": {
      "application/vnd.jupyter.widget-view+json": {
       "model_id": "6cb880fbe0d34a318bf19c193ea64da9",
       "version_major": 2,
       "version_minor": 0
      },
      "text/plain": [
       "ExperimentDataPlotSelectionWidget(children=(HBox(children=(Label(value='Experiments:', layout=Layout(min_width…"
      ]
     },
     "metadata": {},
     "output_type": "display_data"
    },
    {
     "data": {
      "application/vnd.jupyter.widget-view+json": {
       "model_id": "1eda4440b3ee4d559526475dcf4eb018",
       "version_major": 2,
       "version_minor": 0
      },
      "text/plain": [
       "Output()"
      ]
     },
     "metadata": {},
     "output_type": "display_data"
    }
   ],
   "source": [
    "# Plotting of ['test_accuracy'] \n",
    "import exputils as eu\n",
    "from exputils.gui.jupyter.plotly_meanstd_scatter import plotly_meanstd_scatter\n",
    "\n",
    "plot_config = eu.AttrDict(\n",
    "layout = dict(\n",
    "    xaxis = dict(\n",
    "        title = '', \n",
    "        range = [None, None]),\n",
    "    yaxis = dict(\n",
    "        title = '', \n",
    "        range = [None, None]),\n",
    "),\n",
    "moving_average = dict(\n",
    "    n = 1\n",
    "),\n",
    "data_filter = dict(\n",
    "    every_nth_step = dict(\n",
    "        step = 1,\n",
    "        include_final_step = False\n",
    "    ),\n",
    "),        \n",
    "default_group_label = 'rep <group_idx>')\n",
    "\n",
    "selection_widget = eu.gui.jupyter.ExperimentDataPlotSelectionWidget(experiment_data_loader, datasources=['test_accuracy'], experiment_ids='all', repetition_ids='all', output_format=('S', 'E', 'D'), data_filter='', plot_function=plotly_meanstd_scatter, plot_function_config=plot_config, state_backup_name='state_backup_73729335', state_backup_variable_filter=['experiment_ids', 'repetition_ids'], is_datasources_selection=False, is_output_format_selection=False, is_data_filter_selection=False, is_plot_function_selection=False, is_plot_function_config_editor=False, is_code_producer=False)\n",
    "display(selection_widget)\n",
    "selection_widget.plot_data()"
   ]
  },
  {
   "cell_type": "markdown",
   "metadata": {},
   "source": [
    "# Final Test Accuracy"
   ]
  },
  {
   "cell_type": "code",
   "execution_count": 4,
   "metadata": {
    "code_folding": [
     0
    ]
   },
   "outputs": [
    {
     "data": {
      "application/vnd.jupyter.widget-view+json": {
       "model_id": "66ab6859a0ba4bcfb33c1cc170cf170f",
       "version_major": 2,
       "version_minor": 0
      },
      "text/plain": [
       "ExperimentDataPlotSelectionWidget(children=(HBox(children=(Label(value='Experiments:', layout=Layout(min_width…"
      ]
     },
     "metadata": {},
     "output_type": "display_data"
    },
    {
     "data": {
      "application/vnd.jupyter.widget-view+json": {
       "model_id": "884b07a8e8714fe3b17e167d56b76bb4",
       "version_major": 2,
       "version_minor": 0
      },
      "text/plain": [
       "Output()"
      ]
     },
     "metadata": {},
     "output_type": "display_data"
    }
   ],
   "source": [
    "# Plotting of ['test_accuracy[-1]'] \n",
    "import exputils as eu\n",
    "from exputils.gui.jupyter.plotly_box import plotly_box\n",
    "\n",
    "plot_config = eu.AttrDict(\n",
    "layout = dict(\n",
    "    xaxis = dict(\n",
    "        title = '', \n",
    "        range = [None, None] \n",
    "        ),\n",
    "    yaxis = dict(\n",
    "        title = '', \n",
    "        range = [None, None] \n",
    "        )\n",
    "    ))\n",
    "\n",
    "selection_widget = eu.gui.jupyter.ExperimentDataPlotSelectionWidget(experiment_data_loader, datasources=['test_accuracy[-1]'], experiment_ids='all', repetition_ids='all', output_format=('S', 'E', 'D'), data_filter='', plot_function=plotly_box, plot_function_config=plot_config, state_backup_name='state_backup_73729397', state_backup_variable_filter=['experiment_ids', 'repetition_ids'], is_datasources_selection=False, is_output_format_selection=False, is_data_filter_selection=False, is_plot_function_selection=False, is_plot_function_config_editor=False, is_code_producer=False)\n",
    "display(selection_widget)\n",
    "selection_widget.plot_data()"
   ]
  },
  {
   "cell_type": "code",
   "execution_count": 5,
   "metadata": {
    "code_folding": [
     0
    ]
   },
   "outputs": [
    {
     "data": {
      "application/vnd.jupyter.widget-view+json": {
       "model_id": "37a43ff71a074d2498f15a7a4b87911e",
       "version_major": 2,
       "version_minor": 0
      },
      "text/plain": [
       "ExperimentDataPlotSelectionWidget(children=(HBox(children=(Label(value='Experiments:', layout=Layout(min_width…"
      ]
     },
     "metadata": {},
     "output_type": "display_data"
    },
    {
     "data": {
      "application/vnd.jupyter.widget-view+json": {
       "model_id": "1bb12fe25d864bf9bcdb6a9169ac49b3",
       "version_major": 2,
       "version_minor": 0
      },
      "text/plain": [
       "Output()"
      ]
     },
     "metadata": {},
     "output_type": "display_data"
    }
   ],
   "source": [
    "# Plotting of ['test_accuracy[-1]'] \n",
    "import exputils as eu\n",
    "from exputils.gui.jupyter.tabulate_pairwise import tabulate_pairwise\n",
    "\n",
    "plot_config = eu.AttrDict(\n",
    "pairwise_function = eu.misc.mannwhitneyu_pvalue,\n",
    "pairwise_mode = 'upper_triangle', # which pairs are compared? 'full', 'full_not_identity', 'upper_triangle', 'upper_triangle_not_identity', 'lower_triangle', 'lower_triangle_not_identity'\n",
    "tabulate=eu.AttrDict(\n",
    "            tablefmt='html', # 'html' or 'latex'\n",
    "            numalign='right',\n",
    "        ),\n",
    "cell_format = '{}',\n",
    "top_left_cell_content = 'p-value',\n",
    "labels=[])\n",
    "\n",
    "selection_widget = eu.gui.jupyter.ExperimentDataPlotSelectionWidget(experiment_data_loader, datasources=['test_accuracy[-1]'], experiment_ids='all', repetition_ids='all', output_format=('S', 'E', 'D'), data_filter='', plot_function=tabulate_pairwise, plot_function_config=plot_config, state_backup_name='state_backup_73729444', state_backup_variable_filter=['experiment_ids', 'repetition_ids'], is_datasources_selection=False, is_output_format_selection=False, is_data_filter_selection=False, is_plot_function_selection=False, is_plot_function_config_editor=False, is_code_producer=False)\n",
    "display(selection_widget)\n",
    "selection_widget.plot_data()"
   ]
  }
 ],
 "metadata": {
  "kernelspec": {
   "display_name": "Python 3 (ipykernel)",
   "language": "python",
   "name": "python3"
  },
  "language_info": {
   "codemirror_mode": {
    "name": "ipython",
    "version": 3
   },
   "file_extension": ".py",
   "mimetype": "text/x-python",
   "name": "python",
   "nbconvert_exporter": "python",
   "pygments_lexer": "ipython3",
   "version": "3.8.13"
  }
 },
 "nbformat": 4,
 "nbformat_minor": 4
}
