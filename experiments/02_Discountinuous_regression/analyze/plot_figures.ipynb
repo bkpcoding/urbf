{
 "cells": [
  {
   "cell_type": "code",
   "execution_count": 6,
   "metadata": {
    "code_folding": [],
    "scrolled": false
   },
   "outputs": [
    {
     "data": {
      "application/vnd.jupyter.widget-view+json": {
       "model_id": "f5b72fb12c1744b3a4d15ff845dcee9f",
       "version_major": 2,
       "version_minor": 0
      },
      "text/plain": [
       "ExperimentDataLoaderWidget(children=(Box(children=(Button(description='Update Descriptions', layout=Layout(hei…"
      ]
     },
     "metadata": {},
     "output_type": "display_data"
    },
    {
     "data": {
      "application/vnd.jupyter.widget-view+json": {
       "model_id": "4f9ee9a6d4b440bfaa17855537e38c86",
       "version_major": 2,
       "version_minor": 0
      },
      "text/plain": [
       "Output()"
      ]
     },
     "metadata": {},
     "output_type": "display_data"
    }
   ],
   "source": [
    "# import the experiment utilities package\n",
    "import exputils as eu\n",
    "import numpy as np\n",
    "\n",
    "# define what data should be loaded and some extra statistics that should be computed                \n",
    "loader_config = eu.AttrDict(\n",
    "    load_experiment_data_function = eu.AttrDict(\n",
    "        pre_allowed_data_filter = [\n",
    "            'TestLoss',\n",
    "        ],\n",
    "    )\n",
    ")       \n",
    "                \n",
    "# create an experiment data loader, by default it will load data from '../experiments'\n",
    "experiment_data_loader = eu.gui.jupyter.ExperimentDataLoaderWidget(config=loader_config)\n",
    "display(experiment_data_loader)"
   ]
  },
  {
   "cell_type": "markdown",
   "metadata": {},
   "source": [
    "# Test Loss vs Complexity\n"
   ]
  },
  {
   "cell_type": "code",
   "execution_count": 29,
   "metadata": {
    "code_folding": []
   },
   "outputs": [],
   "source": [
    "# parameters\n",
    "experiment_ids = [\n",
    "#   MLP begins\n",
    "    '130008',\n",
    "    '120008',\n",
    "    '110008',\n",
    "    '100008',\n",
    "#   U-RBF begins\n",
    "    '230010',\n",
    "    '220010',\n",
    "    '210010',\n",
    "    '200010',\n",
    "\n",
    "#   MLP + RBF begins\n",
    "    #'330001',\n",
    "    #'320001',\n",
    "    #'310001',\n",
    "    #'300001',\n",
    "    \n",
    "#   MRBF\n",
    "    #'430001',\n",
    "    #'420001',\n",
    "    #'410001',\n",
    "    #'450001',\n",
    "    \n",
    "]\n",
    "\n",
    "\n",
    "labels = [\n",
    "    'MLP',\n",
    "    'U-RBF',\n",
    "    #'U-RBF + MLP',\n",
    "    #'M-RBF'\n",
    "]\n",
    "\n",
    "# ranges = [\n",
    "#     '[0.0 0.25]',\n",
    "#     '[0.25 0.5]',\n",
    "#     '[0.5 0.75]',\n",
    "#     '[0.75 1.0]',\n",
    "#     '[1.0 1.25]',\n",
    "#     '[1.25 1.5]',\n",
    "#     '[1.5 1.75]',\n",
    "# ]\n",
    "\n",
    "#ranges = [\n",
    "#    '0.125',\n",
    "#    '0.375',\n",
    "#    '0.625',\n",
    "#    '0.875',\n",
    "#    '1.125',\n",
    "#    '1.375',\n",
    "#    '1.625',\n",
    "#]\n",
    "ranges = ['0', '1', '3', '5']"
   ]
  },
  {
   "cell_type": "code",
   "execution_count": 30,
   "metadata": {
    "code_folding": []
   },
   "outputs": [
    {
     "name": "stdout",
     "output_type": "stream",
     "text": [
      "0\n",
      "130008\n",
      "1\n",
      "120008\n",
      "2\n",
      "110008\n",
      "3\n",
      "100008\n",
      "4\n",
      "230010\n",
      "5\n",
      "220010\n",
      "6\n",
      "210010\n",
      "7\n",
      "200010\n"
     ]
    }
   ],
   "source": [
    "# collect data \n",
    "collected_experiment_data = []\n",
    "\n",
    "    \n",
    "for idx in range(2):\n",
    "    cur_data = eu.AttrDict()\n",
    "    cur_data.means = []\n",
    "    cur_data.stds = []\n",
    "    #cur_data.sems = []\n",
    "\n",
    "    for range_idx in range(len(ranges)):\n",
    "\n",
    "        #experiment_id = '{}{}'.format(experiment_id_template, range_idx)\n",
    "        print(4*idx + range_idx)\n",
    "        experiment_id ='{}'.format(experiment_ids[4*idx + range_idx])\n",
    "        print(experiment_id)\n",
    "\n",
    "        test_loss = []\n",
    "        for rep_data in experiment_data_loader.experiment_data[experiment_id].repetition_data.values():\n",
    "            test_loss.append(rep_data.TestLoss[0])\n",
    "\n",
    "        cur_data.means.append(np.mean(test_loss))\n",
    "        cur_data.stds.append(np.std(test_loss))\n",
    "        #cur_data.means.append(np.mean(total_rewards))\n",
    "\n",
    "    collected_experiment_data.append(cur_data)"
   ]
  },
  {
   "cell_type": "code",
   "execution_count": 31,
   "metadata": {
    "code_folding": []
   },
   "outputs": [
    {
     "data": {
      "application/vnd.plotly.v1+json": {
       "config": {
        "plotlyServerURL": "https://plot.ly"
       },
       "data": [
        {
         "error_y": {
          "array": [
           0.0012848501792177558,
           0.053141020238399506,
           0.1515701413154602,
           0.34428340196609497
          ],
          "type": "data",
          "visible": true
         },
         "marker": {
          "color": "rgb(0,114,178)"
         },
         "name": "MLP",
         "type": "scatter",
         "x": [
          0,
          1,
          2,
          3
         ],
         "y": [
          0.0031720369588583708,
          0.22215820848941803,
          0.8951773047447205,
          1.498905897140503
         ]
        },
        {
         "error_y": {
          "array": [
           0.000976567855104804,
           0.047555118799209595,
           0.07126446068286896,
           0.10684007406234741
          ],
          "type": "data",
          "visible": true
         },
         "marker": {
          "color": "rgb(213,94,0)"
         },
         "name": "U-RBF",
         "type": "scatter",
         "x": [
          0,
          1,
          2,
          3
         ],
         "y": [
          0.008550247177481651,
          0.2616206407546997,
          0.5735200643539429,
          0.881047785282135
         ]
        }
       ],
       "layout": {
        "font": {
         "color": "black",
         "family": "Times New Roman",
         "size": 24
        },
        "height": 381,
        "legend": {
         "orientation": "h",
         "x": 1,
         "xanchor": "right",
         "y": 1.02,
         "yanchor": "bottom"
        },
        "margin": {
         "b": 75,
         "l": 105,
         "r": 6,
         "t": 0
        },
        "paper_bgcolor": "rgba(0,0,0,0)",
        "plot_bgcolor": "rgba(0,0,0,0)",
        "showlegend": true,
        "template": {
         "data": {
          "bar": [
           {
            "error_x": {
             "color": "#2a3f5f"
            },
            "error_y": {
             "color": "#2a3f5f"
            },
            "marker": {
             "line": {
              "color": "#E5ECF6",
              "width": 0.5
             },
             "pattern": {
              "fillmode": "overlay",
              "size": 10,
              "solidity": 0.2
             }
            },
            "type": "bar"
           }
          ],
          "barpolar": [
           {
            "marker": {
             "line": {
              "color": "#E5ECF6",
              "width": 0.5
             },
             "pattern": {
              "fillmode": "overlay",
              "size": 10,
              "solidity": 0.2
             }
            },
            "type": "barpolar"
           }
          ],
          "carpet": [
           {
            "aaxis": {
             "endlinecolor": "#2a3f5f",
             "gridcolor": "white",
             "linecolor": "white",
             "minorgridcolor": "white",
             "startlinecolor": "#2a3f5f"
            },
            "baxis": {
             "endlinecolor": "#2a3f5f",
             "gridcolor": "white",
             "linecolor": "white",
             "minorgridcolor": "white",
             "startlinecolor": "#2a3f5f"
            },
            "type": "carpet"
           }
          ],
          "choropleth": [
           {
            "colorbar": {
             "outlinewidth": 0,
             "ticks": ""
            },
            "type": "choropleth"
           }
          ],
          "contour": [
           {
            "colorbar": {
             "outlinewidth": 0,
             "ticks": ""
            },
            "colorscale": [
             [
              0,
              "#0d0887"
             ],
             [
              0.1111111111111111,
              "#46039f"
             ],
             [
              0.2222222222222222,
              "#7201a8"
             ],
             [
              0.3333333333333333,
              "#9c179e"
             ],
             [
              0.4444444444444444,
              "#bd3786"
             ],
             [
              0.5555555555555556,
              "#d8576b"
             ],
             [
              0.6666666666666666,
              "#ed7953"
             ],
             [
              0.7777777777777778,
              "#fb9f3a"
             ],
             [
              0.8888888888888888,
              "#fdca26"
             ],
             [
              1,
              "#f0f921"
             ]
            ],
            "type": "contour"
           }
          ],
          "contourcarpet": [
           {
            "colorbar": {
             "outlinewidth": 0,
             "ticks": ""
            },
            "type": "contourcarpet"
           }
          ],
          "heatmap": [
           {
            "colorbar": {
             "outlinewidth": 0,
             "ticks": ""
            },
            "colorscale": [
             [
              0,
              "#0d0887"
             ],
             [
              0.1111111111111111,
              "#46039f"
             ],
             [
              0.2222222222222222,
              "#7201a8"
             ],
             [
              0.3333333333333333,
              "#9c179e"
             ],
             [
              0.4444444444444444,
              "#bd3786"
             ],
             [
              0.5555555555555556,
              "#d8576b"
             ],
             [
              0.6666666666666666,
              "#ed7953"
             ],
             [
              0.7777777777777778,
              "#fb9f3a"
             ],
             [
              0.8888888888888888,
              "#fdca26"
             ],
             [
              1,
              "#f0f921"
             ]
            ],
            "type": "heatmap"
           }
          ],
          "heatmapgl": [
           {
            "colorbar": {
             "outlinewidth": 0,
             "ticks": ""
            },
            "colorscale": [
             [
              0,
              "#0d0887"
             ],
             [
              0.1111111111111111,
              "#46039f"
             ],
             [
              0.2222222222222222,
              "#7201a8"
             ],
             [
              0.3333333333333333,
              "#9c179e"
             ],
             [
              0.4444444444444444,
              "#bd3786"
             ],
             [
              0.5555555555555556,
              "#d8576b"
             ],
             [
              0.6666666666666666,
              "#ed7953"
             ],
             [
              0.7777777777777778,
              "#fb9f3a"
             ],
             [
              0.8888888888888888,
              "#fdca26"
             ],
             [
              1,
              "#f0f921"
             ]
            ],
            "type": "heatmapgl"
           }
          ],
          "histogram": [
           {
            "marker": {
             "pattern": {
              "fillmode": "overlay",
              "size": 10,
              "solidity": 0.2
             }
            },
            "type": "histogram"
           }
          ],
          "histogram2d": [
           {
            "colorbar": {
             "outlinewidth": 0,
             "ticks": ""
            },
            "colorscale": [
             [
              0,
              "#0d0887"
             ],
             [
              0.1111111111111111,
              "#46039f"
             ],
             [
              0.2222222222222222,
              "#7201a8"
             ],
             [
              0.3333333333333333,
              "#9c179e"
             ],
             [
              0.4444444444444444,
              "#bd3786"
             ],
             [
              0.5555555555555556,
              "#d8576b"
             ],
             [
              0.6666666666666666,
              "#ed7953"
             ],
             [
              0.7777777777777778,
              "#fb9f3a"
             ],
             [
              0.8888888888888888,
              "#fdca26"
             ],
             [
              1,
              "#f0f921"
             ]
            ],
            "type": "histogram2d"
           }
          ],
          "histogram2dcontour": [
           {
            "colorbar": {
             "outlinewidth": 0,
             "ticks": ""
            },
            "colorscale": [
             [
              0,
              "#0d0887"
             ],
             [
              0.1111111111111111,
              "#46039f"
             ],
             [
              0.2222222222222222,
              "#7201a8"
             ],
             [
              0.3333333333333333,
              "#9c179e"
             ],
             [
              0.4444444444444444,
              "#bd3786"
             ],
             [
              0.5555555555555556,
              "#d8576b"
             ],
             [
              0.6666666666666666,
              "#ed7953"
             ],
             [
              0.7777777777777778,
              "#fb9f3a"
             ],
             [
              0.8888888888888888,
              "#fdca26"
             ],
             [
              1,
              "#f0f921"
             ]
            ],
            "type": "histogram2dcontour"
           }
          ],
          "mesh3d": [
           {
            "colorbar": {
             "outlinewidth": 0,
             "ticks": ""
            },
            "type": "mesh3d"
           }
          ],
          "parcoords": [
           {
            "line": {
             "colorbar": {
              "outlinewidth": 0,
              "ticks": ""
             }
            },
            "type": "parcoords"
           }
          ],
          "pie": [
           {
            "automargin": true,
            "type": "pie"
           }
          ],
          "scatter": [
           {
            "fillpattern": {
             "fillmode": "overlay",
             "size": 10,
             "solidity": 0.2
            },
            "type": "scatter"
           }
          ],
          "scatter3d": [
           {
            "line": {
             "colorbar": {
              "outlinewidth": 0,
              "ticks": ""
             }
            },
            "marker": {
             "colorbar": {
              "outlinewidth": 0,
              "ticks": ""
             }
            },
            "type": "scatter3d"
           }
          ],
          "scattercarpet": [
           {
            "marker": {
             "colorbar": {
              "outlinewidth": 0,
              "ticks": ""
             }
            },
            "type": "scattercarpet"
           }
          ],
          "scattergeo": [
           {
            "marker": {
             "colorbar": {
              "outlinewidth": 0,
              "ticks": ""
             }
            },
            "type": "scattergeo"
           }
          ],
          "scattergl": [
           {
            "marker": {
             "colorbar": {
              "outlinewidth": 0,
              "ticks": ""
             }
            },
            "type": "scattergl"
           }
          ],
          "scattermapbox": [
           {
            "marker": {
             "colorbar": {
              "outlinewidth": 0,
              "ticks": ""
             }
            },
            "type": "scattermapbox"
           }
          ],
          "scatterpolar": [
           {
            "marker": {
             "colorbar": {
              "outlinewidth": 0,
              "ticks": ""
             }
            },
            "type": "scatterpolar"
           }
          ],
          "scatterpolargl": [
           {
            "marker": {
             "colorbar": {
              "outlinewidth": 0,
              "ticks": ""
             }
            },
            "type": "scatterpolargl"
           }
          ],
          "scatterternary": [
           {
            "marker": {
             "colorbar": {
              "outlinewidth": 0,
              "ticks": ""
             }
            },
            "type": "scatterternary"
           }
          ],
          "surface": [
           {
            "colorbar": {
             "outlinewidth": 0,
             "ticks": ""
            },
            "colorscale": [
             [
              0,
              "#0d0887"
             ],
             [
              0.1111111111111111,
              "#46039f"
             ],
             [
              0.2222222222222222,
              "#7201a8"
             ],
             [
              0.3333333333333333,
              "#9c179e"
             ],
             [
              0.4444444444444444,
              "#bd3786"
             ],
             [
              0.5555555555555556,
              "#d8576b"
             ],
             [
              0.6666666666666666,
              "#ed7953"
             ],
             [
              0.7777777777777778,
              "#fb9f3a"
             ],
             [
              0.8888888888888888,
              "#fdca26"
             ],
             [
              1,
              "#f0f921"
             ]
            ],
            "type": "surface"
           }
          ],
          "table": [
           {
            "cells": {
             "fill": {
              "color": "#EBF0F8"
             },
             "line": {
              "color": "white"
             }
            },
            "header": {
             "fill": {
              "color": "#C8D4E3"
             },
             "line": {
              "color": "white"
             }
            },
            "type": "table"
           }
          ]
         },
         "layout": {
          "annotationdefaults": {
           "arrowcolor": "#2a3f5f",
           "arrowhead": 0,
           "arrowwidth": 1
          },
          "autotypenumbers": "strict",
          "coloraxis": {
           "colorbar": {
            "outlinewidth": 0,
            "ticks": ""
           }
          },
          "colorscale": {
           "diverging": [
            [
             0,
             "#8e0152"
            ],
            [
             0.1,
             "#c51b7d"
            ],
            [
             0.2,
             "#de77ae"
            ],
            [
             0.3,
             "#f1b6da"
            ],
            [
             0.4,
             "#fde0ef"
            ],
            [
             0.5,
             "#f7f7f7"
            ],
            [
             0.6,
             "#e6f5d0"
            ],
            [
             0.7,
             "#b8e186"
            ],
            [
             0.8,
             "#7fbc41"
            ],
            [
             0.9,
             "#4d9221"
            ],
            [
             1,
             "#276419"
            ]
           ],
           "sequential": [
            [
             0,
             "#0d0887"
            ],
            [
             0.1111111111111111,
             "#46039f"
            ],
            [
             0.2222222222222222,
             "#7201a8"
            ],
            [
             0.3333333333333333,
             "#9c179e"
            ],
            [
             0.4444444444444444,
             "#bd3786"
            ],
            [
             0.5555555555555556,
             "#d8576b"
            ],
            [
             0.6666666666666666,
             "#ed7953"
            ],
            [
             0.7777777777777778,
             "#fb9f3a"
            ],
            [
             0.8888888888888888,
             "#fdca26"
            ],
            [
             1,
             "#f0f921"
            ]
           ],
           "sequentialminus": [
            [
             0,
             "#0d0887"
            ],
            [
             0.1111111111111111,
             "#46039f"
            ],
            [
             0.2222222222222222,
             "#7201a8"
            ],
            [
             0.3333333333333333,
             "#9c179e"
            ],
            [
             0.4444444444444444,
             "#bd3786"
            ],
            [
             0.5555555555555556,
             "#d8576b"
            ],
            [
             0.6666666666666666,
             "#ed7953"
            ],
            [
             0.7777777777777778,
             "#fb9f3a"
            ],
            [
             0.8888888888888888,
             "#fdca26"
            ],
            [
             1,
             "#f0f921"
            ]
           ]
          },
          "colorway": [
           "#636efa",
           "#EF553B",
           "#00cc96",
           "#ab63fa",
           "#FFA15A",
           "#19d3f3",
           "#FF6692",
           "#B6E880",
           "#FF97FF",
           "#FECB52"
          ],
          "font": {
           "color": "#2a3f5f"
          },
          "geo": {
           "bgcolor": "white",
           "lakecolor": "white",
           "landcolor": "#E5ECF6",
           "showlakes": true,
           "showland": true,
           "subunitcolor": "white"
          },
          "hoverlabel": {
           "align": "left"
          },
          "hovermode": "closest",
          "mapbox": {
           "style": "light"
          },
          "paper_bgcolor": "white",
          "plot_bgcolor": "#E5ECF6",
          "polar": {
           "angularaxis": {
            "gridcolor": "white",
            "linecolor": "white",
            "ticks": ""
           },
           "bgcolor": "#E5ECF6",
           "radialaxis": {
            "gridcolor": "white",
            "linecolor": "white",
            "ticks": ""
           }
          },
          "scene": {
           "xaxis": {
            "backgroundcolor": "#E5ECF6",
            "gridcolor": "white",
            "gridwidth": 2,
            "linecolor": "white",
            "showbackground": true,
            "ticks": "",
            "zerolinecolor": "white"
           },
           "yaxis": {
            "backgroundcolor": "#E5ECF6",
            "gridcolor": "white",
            "gridwidth": 2,
            "linecolor": "white",
            "showbackground": true,
            "ticks": "",
            "zerolinecolor": "white"
           },
           "zaxis": {
            "backgroundcolor": "#E5ECF6",
            "gridcolor": "white",
            "gridwidth": 2,
            "linecolor": "white",
            "showbackground": true,
            "ticks": "",
            "zerolinecolor": "white"
           }
          },
          "shapedefaults": {
           "line": {
            "color": "#2a3f5f"
           }
          },
          "ternary": {
           "aaxis": {
            "gridcolor": "white",
            "linecolor": "white",
            "ticks": ""
           },
           "baxis": {
            "gridcolor": "white",
            "linecolor": "white",
            "ticks": ""
           },
           "bgcolor": "#E5ECF6",
           "caxis": {
            "gridcolor": "white",
            "linecolor": "white",
            "ticks": ""
           }
          },
          "title": {
           "x": 0.05
          },
          "xaxis": {
           "automargin": true,
           "gridcolor": "white",
           "linecolor": "white",
           "ticks": "",
           "title": {
            "standoff": 15
           },
           "zerolinecolor": "white",
           "zerolinewidth": 2
          },
          "yaxis": {
           "automargin": true,
           "gridcolor": "white",
           "linecolor": "white",
           "ticks": "",
           "title": {
            "standoff": 15
           },
           "zerolinecolor": "white",
           "zerolinewidth": 2
          }
         }
        },
        "width": 507,
        "xaxis": {
         "gridcolor": "LightGrey",
         "gridwidth": 1,
         "linecolor": "black",
         "linewidth": 1,
         "mirror": true,
         "showgrid": true,
         "showline": true,
         "tickangle": 0,
         "ticktext": [
          "0",
          "1",
          "3",
          "5"
         ],
         "tickvals": [
          0,
          1,
          2,
          3
         ],
         "title": {
          "text": "Complexity of the function"
         },
         "zeroline": false
        },
        "yaxis": {
         "gridcolor": "LightGrey",
         "gridwidth": 1,
         "linecolor": "black",
         "linewidth": 1,
         "mirror": true,
         "showgrid": true,
         "showline": true,
         "title": {
          "text": "TestLoss"
         },
         "zeroline": false
        }
       }
      },
      "text/html": [
       "<div>                            <div id=\"a59fffde-ac73-4922-8a79-066f5f50b9f0\" class=\"plotly-graph-div\" style=\"height:381px; width:507px;\"></div>            <script type=\"text/javascript\">                require([\"plotly\"], function(Plotly) {                    window.PLOTLYENV=window.PLOTLYENV || {};                                    if (document.getElementById(\"a59fffde-ac73-4922-8a79-066f5f50b9f0\")) {                    Plotly.newPlot(                        \"a59fffde-ac73-4922-8a79-066f5f50b9f0\",                        [{\"error_y\":{\"array\":[0.0012848501792177558,0.053141020238399506,0.1515701413154602,0.34428340196609497],\"type\":\"data\",\"visible\":true},\"marker\":{\"color\":\"rgb(0,114,178)\"},\"name\":\"MLP\",\"x\":[0,1,2,3],\"y\":[0.0031720369588583708,0.22215820848941803,0.8951773047447205,1.498905897140503],\"type\":\"scatter\"},{\"error_y\":{\"array\":[0.000976567855104804,0.047555118799209595,0.07126446068286896,0.10684007406234741],\"type\":\"data\",\"visible\":true},\"marker\":{\"color\":\"rgb(213,94,0)\"},\"name\":\"U-RBF\",\"x\":[0,1,2,3],\"y\":[0.008550247177481651,0.2616206407546997,0.5735200643539429,0.881047785282135],\"type\":\"scatter\"}],                        {\"font\":{\"color\":\"black\",\"family\":\"Times New Roman\",\"size\":24},\"height\":381,\"legend\":{\"orientation\":\"h\",\"x\":1,\"xanchor\":\"right\",\"y\":1.02,\"yanchor\":\"bottom\"},\"margin\":{\"b\":75,\"l\":105,\"r\":6,\"t\":0},\"paper_bgcolor\":\"rgba(0,0,0,0)\",\"plot_bgcolor\":\"rgba(0,0,0,0)\",\"showlegend\":true,\"width\":507,\"xaxis\":{\"gridcolor\":\"LightGrey\",\"gridwidth\":1,\"linecolor\":\"black\",\"linewidth\":1,\"mirror\":true,\"showgrid\":true,\"showline\":true,\"tickangle\":0,\"ticktext\":[\"0\",\"1\",\"3\",\"5\"],\"tickvals\":[0,1,2,3],\"title\":{\"text\":\"Complexity of the function\"},\"zeroline\":false},\"yaxis\":{\"gridcolor\":\"LightGrey\",\"gridwidth\":1,\"linecolor\":\"black\",\"linewidth\":1,\"mirror\":true,\"showgrid\":true,\"showline\":true,\"title\":{\"text\":\"TestLoss\"},\"zeroline\":false},\"template\":{\"data\":{\"histogram2dcontour\":[{\"type\":\"histogram2dcontour\",\"colorbar\":{\"outlinewidth\":0,\"ticks\":\"\"},\"colorscale\":[[0.0,\"#0d0887\"],[0.1111111111111111,\"#46039f\"],[0.2222222222222222,\"#7201a8\"],[0.3333333333333333,\"#9c179e\"],[0.4444444444444444,\"#bd3786\"],[0.5555555555555556,\"#d8576b\"],[0.6666666666666666,\"#ed7953\"],[0.7777777777777778,\"#fb9f3a\"],[0.8888888888888888,\"#fdca26\"],[1.0,\"#f0f921\"]]}],\"choropleth\":[{\"type\":\"choropleth\",\"colorbar\":{\"outlinewidth\":0,\"ticks\":\"\"}}],\"histogram2d\":[{\"type\":\"histogram2d\",\"colorbar\":{\"outlinewidth\":0,\"ticks\":\"\"},\"colorscale\":[[0.0,\"#0d0887\"],[0.1111111111111111,\"#46039f\"],[0.2222222222222222,\"#7201a8\"],[0.3333333333333333,\"#9c179e\"],[0.4444444444444444,\"#bd3786\"],[0.5555555555555556,\"#d8576b\"],[0.6666666666666666,\"#ed7953\"],[0.7777777777777778,\"#fb9f3a\"],[0.8888888888888888,\"#fdca26\"],[1.0,\"#f0f921\"]]}],\"heatmap\":[{\"type\":\"heatmap\",\"colorbar\":{\"outlinewidth\":0,\"ticks\":\"\"},\"colorscale\":[[0.0,\"#0d0887\"],[0.1111111111111111,\"#46039f\"],[0.2222222222222222,\"#7201a8\"],[0.3333333333333333,\"#9c179e\"],[0.4444444444444444,\"#bd3786\"],[0.5555555555555556,\"#d8576b\"],[0.6666666666666666,\"#ed7953\"],[0.7777777777777778,\"#fb9f3a\"],[0.8888888888888888,\"#fdca26\"],[1.0,\"#f0f921\"]]}],\"heatmapgl\":[{\"type\":\"heatmapgl\",\"colorbar\":{\"outlinewidth\":0,\"ticks\":\"\"},\"colorscale\":[[0.0,\"#0d0887\"],[0.1111111111111111,\"#46039f\"],[0.2222222222222222,\"#7201a8\"],[0.3333333333333333,\"#9c179e\"],[0.4444444444444444,\"#bd3786\"],[0.5555555555555556,\"#d8576b\"],[0.6666666666666666,\"#ed7953\"],[0.7777777777777778,\"#fb9f3a\"],[0.8888888888888888,\"#fdca26\"],[1.0,\"#f0f921\"]]}],\"contourcarpet\":[{\"type\":\"contourcarpet\",\"colorbar\":{\"outlinewidth\":0,\"ticks\":\"\"}}],\"contour\":[{\"type\":\"contour\",\"colorbar\":{\"outlinewidth\":0,\"ticks\":\"\"},\"colorscale\":[[0.0,\"#0d0887\"],[0.1111111111111111,\"#46039f\"],[0.2222222222222222,\"#7201a8\"],[0.3333333333333333,\"#9c179e\"],[0.4444444444444444,\"#bd3786\"],[0.5555555555555556,\"#d8576b\"],[0.6666666666666666,\"#ed7953\"],[0.7777777777777778,\"#fb9f3a\"],[0.8888888888888888,\"#fdca26\"],[1.0,\"#f0f921\"]]}],\"surface\":[{\"type\":\"surface\",\"colorbar\":{\"outlinewidth\":0,\"ticks\":\"\"},\"colorscale\":[[0.0,\"#0d0887\"],[0.1111111111111111,\"#46039f\"],[0.2222222222222222,\"#7201a8\"],[0.3333333333333333,\"#9c179e\"],[0.4444444444444444,\"#bd3786\"],[0.5555555555555556,\"#d8576b\"],[0.6666666666666666,\"#ed7953\"],[0.7777777777777778,\"#fb9f3a\"],[0.8888888888888888,\"#fdca26\"],[1.0,\"#f0f921\"]]}],\"mesh3d\":[{\"type\":\"mesh3d\",\"colorbar\":{\"outlinewidth\":0,\"ticks\":\"\"}}],\"scatter\":[{\"fillpattern\":{\"fillmode\":\"overlay\",\"size\":10,\"solidity\":0.2},\"type\":\"scatter\"}],\"parcoords\":[{\"type\":\"parcoords\",\"line\":{\"colorbar\":{\"outlinewidth\":0,\"ticks\":\"\"}}}],\"scatterpolargl\":[{\"type\":\"scatterpolargl\",\"marker\":{\"colorbar\":{\"outlinewidth\":0,\"ticks\":\"\"}}}],\"bar\":[{\"error_x\":{\"color\":\"#2a3f5f\"},\"error_y\":{\"color\":\"#2a3f5f\"},\"marker\":{\"line\":{\"color\":\"#E5ECF6\",\"width\":0.5},\"pattern\":{\"fillmode\":\"overlay\",\"size\":10,\"solidity\":0.2}},\"type\":\"bar\"}],\"scattergeo\":[{\"type\":\"scattergeo\",\"marker\":{\"colorbar\":{\"outlinewidth\":0,\"ticks\":\"\"}}}],\"scatterpolar\":[{\"type\":\"scatterpolar\",\"marker\":{\"colorbar\":{\"outlinewidth\":0,\"ticks\":\"\"}}}],\"histogram\":[{\"marker\":{\"pattern\":{\"fillmode\":\"overlay\",\"size\":10,\"solidity\":0.2}},\"type\":\"histogram\"}],\"scattergl\":[{\"type\":\"scattergl\",\"marker\":{\"colorbar\":{\"outlinewidth\":0,\"ticks\":\"\"}}}],\"scatter3d\":[{\"type\":\"scatter3d\",\"line\":{\"colorbar\":{\"outlinewidth\":0,\"ticks\":\"\"}},\"marker\":{\"colorbar\":{\"outlinewidth\":0,\"ticks\":\"\"}}}],\"scattermapbox\":[{\"type\":\"scattermapbox\",\"marker\":{\"colorbar\":{\"outlinewidth\":0,\"ticks\":\"\"}}}],\"scatterternary\":[{\"type\":\"scatterternary\",\"marker\":{\"colorbar\":{\"outlinewidth\":0,\"ticks\":\"\"}}}],\"scattercarpet\":[{\"type\":\"scattercarpet\",\"marker\":{\"colorbar\":{\"outlinewidth\":0,\"ticks\":\"\"}}}],\"carpet\":[{\"aaxis\":{\"endlinecolor\":\"#2a3f5f\",\"gridcolor\":\"white\",\"linecolor\":\"white\",\"minorgridcolor\":\"white\",\"startlinecolor\":\"#2a3f5f\"},\"baxis\":{\"endlinecolor\":\"#2a3f5f\",\"gridcolor\":\"white\",\"linecolor\":\"white\",\"minorgridcolor\":\"white\",\"startlinecolor\":\"#2a3f5f\"},\"type\":\"carpet\"}],\"table\":[{\"cells\":{\"fill\":{\"color\":\"#EBF0F8\"},\"line\":{\"color\":\"white\"}},\"header\":{\"fill\":{\"color\":\"#C8D4E3\"},\"line\":{\"color\":\"white\"}},\"type\":\"table\"}],\"barpolar\":[{\"marker\":{\"line\":{\"color\":\"#E5ECF6\",\"width\":0.5},\"pattern\":{\"fillmode\":\"overlay\",\"size\":10,\"solidity\":0.2}},\"type\":\"barpolar\"}],\"pie\":[{\"automargin\":true,\"type\":\"pie\"}]},\"layout\":{\"autotypenumbers\":\"strict\",\"colorway\":[\"#636efa\",\"#EF553B\",\"#00cc96\",\"#ab63fa\",\"#FFA15A\",\"#19d3f3\",\"#FF6692\",\"#B6E880\",\"#FF97FF\",\"#FECB52\"],\"font\":{\"color\":\"#2a3f5f\"},\"hovermode\":\"closest\",\"hoverlabel\":{\"align\":\"left\"},\"paper_bgcolor\":\"white\",\"plot_bgcolor\":\"#E5ECF6\",\"polar\":{\"bgcolor\":\"#E5ECF6\",\"angularaxis\":{\"gridcolor\":\"white\",\"linecolor\":\"white\",\"ticks\":\"\"},\"radialaxis\":{\"gridcolor\":\"white\",\"linecolor\":\"white\",\"ticks\":\"\"}},\"ternary\":{\"bgcolor\":\"#E5ECF6\",\"aaxis\":{\"gridcolor\":\"white\",\"linecolor\":\"white\",\"ticks\":\"\"},\"baxis\":{\"gridcolor\":\"white\",\"linecolor\":\"white\",\"ticks\":\"\"},\"caxis\":{\"gridcolor\":\"white\",\"linecolor\":\"white\",\"ticks\":\"\"}},\"coloraxis\":{\"colorbar\":{\"outlinewidth\":0,\"ticks\":\"\"}},\"colorscale\":{\"sequential\":[[0.0,\"#0d0887\"],[0.1111111111111111,\"#46039f\"],[0.2222222222222222,\"#7201a8\"],[0.3333333333333333,\"#9c179e\"],[0.4444444444444444,\"#bd3786\"],[0.5555555555555556,\"#d8576b\"],[0.6666666666666666,\"#ed7953\"],[0.7777777777777778,\"#fb9f3a\"],[0.8888888888888888,\"#fdca26\"],[1.0,\"#f0f921\"]],\"sequentialminus\":[[0.0,\"#0d0887\"],[0.1111111111111111,\"#46039f\"],[0.2222222222222222,\"#7201a8\"],[0.3333333333333333,\"#9c179e\"],[0.4444444444444444,\"#bd3786\"],[0.5555555555555556,\"#d8576b\"],[0.6666666666666666,\"#ed7953\"],[0.7777777777777778,\"#fb9f3a\"],[0.8888888888888888,\"#fdca26\"],[1.0,\"#f0f921\"]],\"diverging\":[[0,\"#8e0152\"],[0.1,\"#c51b7d\"],[0.2,\"#de77ae\"],[0.3,\"#f1b6da\"],[0.4,\"#fde0ef\"],[0.5,\"#f7f7f7\"],[0.6,\"#e6f5d0\"],[0.7,\"#b8e186\"],[0.8,\"#7fbc41\"],[0.9,\"#4d9221\"],[1,\"#276419\"]]},\"xaxis\":{\"gridcolor\":\"white\",\"linecolor\":\"white\",\"ticks\":\"\",\"title\":{\"standoff\":15},\"zerolinecolor\":\"white\",\"automargin\":true,\"zerolinewidth\":2},\"yaxis\":{\"gridcolor\":\"white\",\"linecolor\":\"white\",\"ticks\":\"\",\"title\":{\"standoff\":15},\"zerolinecolor\":\"white\",\"automargin\":true,\"zerolinewidth\":2},\"scene\":{\"xaxis\":{\"backgroundcolor\":\"#E5ECF6\",\"gridcolor\":\"white\",\"linecolor\":\"white\",\"showbackground\":true,\"ticks\":\"\",\"zerolinecolor\":\"white\",\"gridwidth\":2},\"yaxis\":{\"backgroundcolor\":\"#E5ECF6\",\"gridcolor\":\"white\",\"linecolor\":\"white\",\"showbackground\":true,\"ticks\":\"\",\"zerolinecolor\":\"white\",\"gridwidth\":2},\"zaxis\":{\"backgroundcolor\":\"#E5ECF6\",\"gridcolor\":\"white\",\"linecolor\":\"white\",\"showbackground\":true,\"ticks\":\"\",\"zerolinecolor\":\"white\",\"gridwidth\":2}},\"shapedefaults\":{\"line\":{\"color\":\"#2a3f5f\"}},\"annotationdefaults\":{\"arrowcolor\":\"#2a3f5f\",\"arrowhead\":0,\"arrowwidth\":1},\"geo\":{\"bgcolor\":\"white\",\"landcolor\":\"#E5ECF6\",\"subunitcolor\":\"white\",\"showland\":true,\"showlakes\":true,\"lakecolor\":\"white\"},\"title\":{\"x\":0.05},\"mapbox\":{\"style\":\"light\"}}}},                        {\"responsive\": true}                    ).then(function(){\n",
       "                            \n",
       "var gd = document.getElementById('a59fffde-ac73-4922-8a79-066f5f50b9f0');\n",
       "var x = new MutationObserver(function (mutations, observer) {{\n",
       "        var display = window.getComputedStyle(gd).display;\n",
       "        if (!display || display === 'none') {{\n",
       "            console.log([gd, 'removed!']);\n",
       "            Plotly.purge(gd);\n",
       "            observer.disconnect();\n",
       "        }}\n",
       "}});\n",
       "\n",
       "// Listen for the removal of the full notebook cells\n",
       "var notebookContainer = gd.closest('#notebook-container');\n",
       "if (notebookContainer) {{\n",
       "    x.observe(notebookContainer, {childList: true});\n",
       "}}\n",
       "\n",
       "// Listen for the clearing of the current output cell\n",
       "var outputEl = gd.closest('.output');\n",
       "if (outputEl) {{\n",
       "    x.observe(outputEl, {childList: true});\n",
       "}}\n",
       "\n",
       "                        })                };                });            </script>        </div>"
      ]
     },
     "metadata": {},
     "output_type": "display_data"
    }
   ],
   "source": [
    "# plotting\n",
    "import plotly.graph_objects as go\n",
    "import plotly\n",
    "\n",
    "# default print properties\n",
    "multiplier = 3\n",
    "\n",
    "pixel_cm_ration = 36.5\n",
    "\n",
    "width_full = int(13.95 * pixel_cm_ration) * multiplier\n",
    "width_half = int(13.95/2 * pixel_cm_ration) * multiplier\n",
    "width_third = int(13.95/3 * pixel_cm_ration) * multiplier\n",
    "\n",
    "height_default_1 = int(3.5 * pixel_cm_ration) * multiplier\n",
    "\n",
    "# margins in pixel\n",
    "top_margin = 0 * multiplier \n",
    "left_margin = 35 * multiplier \n",
    "right_margin = 2 * multiplier \n",
    "bottom_margin = 25 * multiplier \n",
    "\n",
    "font_size = 8 * multiplier \n",
    "font_family='Times New Roman'\n",
    "\n",
    "line_width = 1 * multiplier \n",
    "\n",
    "layout = eu.AttrDict(\n",
    "        paper_bgcolor='rgba(0,0,0,0)',\n",
    "        plot_bgcolor='rgba(0,0,0,0)',\n",
    "        \n",
    "        xaxis = eu.AttrDict(\n",
    "            title = 'Complexity of the function',\n",
    "            showline = True,\n",
    "            linewidth = 1,\n",
    "            zeroline=False,\n",
    "            linecolor='black',\n",
    "            showgrid=True,\n",
    "            gridwidth=1,\n",
    "            gridcolor='LightGrey',\n",
    "            mirror=True,\n",
    "            tickvals = np.arange(len(ranges)),\n",
    "            ticktext = ranges, \n",
    "            tickangle = 0, \n",
    "        ),\n",
    "        yaxis = eu.AttrDict(\n",
    "            title = 'TestLoss',\n",
    "            showline = True,\n",
    "            linewidth = 1,\n",
    "            zeroline=False,\n",
    "            linecolor='black',\n",
    "            showgrid=True,\n",
    "            gridwidth=1,\n",
    "            gridcolor='LightGrey',\n",
    "            mirror=True,\n",
    "        ),\n",
    "        font = eu.AttrDict(\n",
    "            family=font_family, \n",
    "            size=font_size,\n",
    "            color='black',\n",
    "            ),\n",
    "        width=width_third, # in cm\n",
    "        height=height_default_1, # in cm\n",
    "        \n",
    "        margin = eu.AttrDict(\n",
    "            l=left_margin, #left margin in pixel\n",
    "            r=right_margin, #right margin in pixel\n",
    "            b=bottom_margin, #bottom margin in pixel\n",
    "            t=top_margin,  #top margin in pixel\n",
    "            ),\n",
    "\n",
    "        showlegend=True,\n",
    "        legend=eu.AttrDict(\n",
    "                orientation=\"h\",\n",
    "                yanchor=\"bottom\",\n",
    "                y=1.02,\n",
    "                xanchor=\"right\",\n",
    "                x=1,\n",
    "            \n",
    "            ), \n",
    "        )\n",
    "\n",
    "default_colors = [\n",
    "    #'rgb(0,0,0)', # black\n",
    "    #'rgb(0,0,0)', # black\n",
    "    'rgb(0,114,178)',  # dark blue\n",
    "    'rgb(213,94,0)',  # orange\n",
    "    #'rgb(0,158,115)', # green\n",
    "\n",
    "] \n",
    "\n",
    "fig = go.Figure(layout=layout)\n",
    "for exp_idx, exp_label in enumerate(labels):\n",
    "\n",
    "    fig.add_trace(go.Scatter(\n",
    "            x=np.arange(len(ranges)),\n",
    "            y=collected_experiment_data[exp_idx].means,\n",
    "            error_y=dict(\n",
    "                type='data', # value of error bar given in data coordinates\n",
    "                array=collected_experiment_data[exp_idx].stds,\n",
    "                visible=True),\n",
    "            name= exp_label,\n",
    "            marker_color=default_colors[exp_idx]\n",
    "        )\n",
    "    )\n",
    "\n",
    "    \n",
    "#plotly.io.write_image(fig, '../../analyze/iclr_figures/result_linear_model_task_difficulty_total_return.pdf')    \n",
    "plotly.io.write_image(fig, './test_loss_comp_disc.pdf')    \n",
    "fig.show()"
   ]
  },
  {
   "cell_type": "markdown",
   "metadata": {},
   "source": [
    "# Testloss vs Number of parameters"
   ]
  },
  {
   "cell_type": "code",
   "execution_count": 38,
   "metadata": {},
   "outputs": [],
   "source": [
    "# parameters\n",
    "experiment_ids = [\n",
    "#   MLP begins\n",
    "    '100012',#16\n",
    "    '100006',#32, 64\n",
    "    '100008',#16, 32, 128\n",
    "    '100001',#32, 64, 128, 32\n",
    "#   U-RBF begins\n",
    "    '200012',#16\n",
    "    '200006',#32, 64\n",
    "    '200009',#32, 64, 128\n",
    "    '200005',#32, 64, 128, 32\n",
    "\n",
    "#   MLP + RBF begins\n",
    "    #'330001',\n",
    "    #'320001',\n",
    "    #'310001',\n",
    "    #'300001',\n",
    "    \n",
    "#   MRBF\n",
    "    '450012',#16\n",
    "    '450006',#32, 64\n",
    "    '450008',#16, 32, 128\n",
    "    '450001',#32, 64, 128, 32\n",
    "    \n",
    "]\n",
    "\n",
    "\n",
    "labels = [\n",
    "    'MLP',\n",
    "    'U-RBF',\n",
    "    #'U-RBF + MLP',\n",
    "    'M-RBF'\n",
    "]\n",
    "\n",
    "# ranges = [\n",
    "#     '[0.0 0.25]',\n",
    "#     '[0.25 0.5]',\n",
    "#     '[0.5 0.75]',\n",
    "#     '[0.75 1.0]',\n",
    "#     '[1.0 1.25]',\n",
    "#     '[1.25 1.5]',\n",
    "#     '[1.5 1.75]',\n",
    "# ]\n",
    "\n",
    "#ranges = [\n",
    "#    '0.125',\n",
    "#    '0.375',\n",
    "#    '0.625',\n",
    "#    '0.875',\n",
    "#    '1.125',\n",
    "#    '1.375',\n",
    "#    '1.625',\n",
    "#]\n",
    "ranges = ['100', '2100', '5000', '14500']"
   ]
  },
  {
   "cell_type": "code",
   "execution_count": 39,
   "metadata": {},
   "outputs": [
    {
     "name": "stdout",
     "output_type": "stream",
     "text": [
      "0\n",
      "100012\n",
      "1\n",
      "100006\n",
      "2\n",
      "100008\n",
      "3\n",
      "100001\n",
      "4\n",
      "200012\n",
      "5\n",
      "200006\n",
      "6\n",
      "200009\n",
      "7\n",
      "200005\n",
      "8\n",
      "450012\n",
      "9\n",
      "450006\n",
      "10\n",
      "450008\n",
      "11\n",
      "450001\n"
     ]
    }
   ],
   "source": [
    "# collect data \n",
    "collected_experiment_data = []\n",
    "\n",
    "    \n",
    "for idx in range(3):\n",
    "    cur_data = eu.AttrDict()\n",
    "    cur_data.means = []\n",
    "    cur_data.stds = []\n",
    "    #cur_data.sems = []\n",
    "\n",
    "    for range_idx in range(len(ranges)):\n",
    "\n",
    "        #experiment_id = '{}{}'.format(experiment_id_template, range_idx)\n",
    "        print(4*idx + range_idx)\n",
    "        experiment_id ='{}'.format(experiment_ids[4*idx + range_idx])\n",
    "        print(experiment_id)\n",
    "\n",
    "        test_loss = []\n",
    "        for rep_data in experiment_data_loader.experiment_data[experiment_id].repetition_data.values():\n",
    "            test_loss.append(rep_data.TestLoss[0])\n",
    "\n",
    "        cur_data.means.append(np.mean(test_loss))\n",
    "        cur_data.stds.append(np.std(test_loss))\n",
    "        #cur_data.means.append(np.mean(total_rewards))\n",
    "\n",
    "    collected_experiment_data.append(cur_data)"
   ]
  },
  {
   "cell_type": "code",
   "execution_count": 41,
   "metadata": {},
   "outputs": [
    {
     "data": {
      "application/vnd.plotly.v1+json": {
       "config": {
        "plotlyServerURL": "https://plot.ly"
       },
       "data": [
        {
         "error_y": {
          "array": [
           0.4891470670700073,
           0.18465693295001984,
           0.34428340196609497,
           0.21180817484855652
          ],
          "type": "data",
          "visible": true
         },
         "marker": {
          "color": "rgb(0,114,178)"
         },
         "name": "MLP",
         "type": "scatter",
         "x": [
          0,
          1,
          2,
          3
         ],
         "y": [
          3.78668212890625,
          2.1565520763397217,
          1.498905897140503,
          1.0371592044830322
         ]
        },
        {
         "error_y": {
          "array": [
           0.5358635783195496,
           0.14180457592010498,
           0.12427469342947006,
           0.11771932989358902
          ],
          "type": "data",
          "visible": true
         },
         "marker": {
          "color": "rgb(213,94,0)"
         },
         "name": "U-RBF",
         "type": "scatter",
         "x": [
          0,
          1,
          2,
          3
         ],
         "y": [
          2.4270272254943848,
          1.4246159791946411,
          1.2030274868011475,
          1.0714821815490723
         ]
        },
        {
         "error_y": {
          "array": [
           2.2469146251678467,
           0.3281210660934448,
           0.30604150891304016,
           0.24715778231620789
          ],
          "type": "data",
          "visible": true
         },
         "marker": {
          "color": "rgb(0,158,115)"
         },
         "name": "M-RBF",
         "type": "scatter",
         "x": [
          0,
          1,
          2,
          3
         ],
         "y": [
          9.974812507629395,
          3.646197557449341,
          3.3394358158111572,
          2.7403175830841064
         ]
        }
       ],
       "layout": {
        "font": {
         "color": "black",
         "family": "Times New Roman",
         "size": 32
        },
        "height": 508,
        "legend": {
         "orientation": "h",
         "x": 1,
         "xanchor": "right",
         "y": 1.02,
         "yanchor": "bottom"
        },
        "margin": {
         "b": 100,
         "l": 140,
         "r": 8,
         "t": 0
        },
        "paper_bgcolor": "rgba(0,0,0,0)",
        "plot_bgcolor": "rgba(0,0,0,0)",
        "showlegend": true,
        "template": {
         "data": {
          "bar": [
           {
            "error_x": {
             "color": "#2a3f5f"
            },
            "error_y": {
             "color": "#2a3f5f"
            },
            "marker": {
             "line": {
              "color": "#E5ECF6",
              "width": 0.5
             },
             "pattern": {
              "fillmode": "overlay",
              "size": 10,
              "solidity": 0.2
             }
            },
            "type": "bar"
           }
          ],
          "barpolar": [
           {
            "marker": {
             "line": {
              "color": "#E5ECF6",
              "width": 0.5
             },
             "pattern": {
              "fillmode": "overlay",
              "size": 10,
              "solidity": 0.2
             }
            },
            "type": "barpolar"
           }
          ],
          "carpet": [
           {
            "aaxis": {
             "endlinecolor": "#2a3f5f",
             "gridcolor": "white",
             "linecolor": "white",
             "minorgridcolor": "white",
             "startlinecolor": "#2a3f5f"
            },
            "baxis": {
             "endlinecolor": "#2a3f5f",
             "gridcolor": "white",
             "linecolor": "white",
             "minorgridcolor": "white",
             "startlinecolor": "#2a3f5f"
            },
            "type": "carpet"
           }
          ],
          "choropleth": [
           {
            "colorbar": {
             "outlinewidth": 0,
             "ticks": ""
            },
            "type": "choropleth"
           }
          ],
          "contour": [
           {
            "colorbar": {
             "outlinewidth": 0,
             "ticks": ""
            },
            "colorscale": [
             [
              0,
              "#0d0887"
             ],
             [
              0.1111111111111111,
              "#46039f"
             ],
             [
              0.2222222222222222,
              "#7201a8"
             ],
             [
              0.3333333333333333,
              "#9c179e"
             ],
             [
              0.4444444444444444,
              "#bd3786"
             ],
             [
              0.5555555555555556,
              "#d8576b"
             ],
             [
              0.6666666666666666,
              "#ed7953"
             ],
             [
              0.7777777777777778,
              "#fb9f3a"
             ],
             [
              0.8888888888888888,
              "#fdca26"
             ],
             [
              1,
              "#f0f921"
             ]
            ],
            "type": "contour"
           }
          ],
          "contourcarpet": [
           {
            "colorbar": {
             "outlinewidth": 0,
             "ticks": ""
            },
            "type": "contourcarpet"
           }
          ],
          "heatmap": [
           {
            "colorbar": {
             "outlinewidth": 0,
             "ticks": ""
            },
            "colorscale": [
             [
              0,
              "#0d0887"
             ],
             [
              0.1111111111111111,
              "#46039f"
             ],
             [
              0.2222222222222222,
              "#7201a8"
             ],
             [
              0.3333333333333333,
              "#9c179e"
             ],
             [
              0.4444444444444444,
              "#bd3786"
             ],
             [
              0.5555555555555556,
              "#d8576b"
             ],
             [
              0.6666666666666666,
              "#ed7953"
             ],
             [
              0.7777777777777778,
              "#fb9f3a"
             ],
             [
              0.8888888888888888,
              "#fdca26"
             ],
             [
              1,
              "#f0f921"
             ]
            ],
            "type": "heatmap"
           }
          ],
          "heatmapgl": [
           {
            "colorbar": {
             "outlinewidth": 0,
             "ticks": ""
            },
            "colorscale": [
             [
              0,
              "#0d0887"
             ],
             [
              0.1111111111111111,
              "#46039f"
             ],
             [
              0.2222222222222222,
              "#7201a8"
             ],
             [
              0.3333333333333333,
              "#9c179e"
             ],
             [
              0.4444444444444444,
              "#bd3786"
             ],
             [
              0.5555555555555556,
              "#d8576b"
             ],
             [
              0.6666666666666666,
              "#ed7953"
             ],
             [
              0.7777777777777778,
              "#fb9f3a"
             ],
             [
              0.8888888888888888,
              "#fdca26"
             ],
             [
              1,
              "#f0f921"
             ]
            ],
            "type": "heatmapgl"
           }
          ],
          "histogram": [
           {
            "marker": {
             "pattern": {
              "fillmode": "overlay",
              "size": 10,
              "solidity": 0.2
             }
            },
            "type": "histogram"
           }
          ],
          "histogram2d": [
           {
            "colorbar": {
             "outlinewidth": 0,
             "ticks": ""
            },
            "colorscale": [
             [
              0,
              "#0d0887"
             ],
             [
              0.1111111111111111,
              "#46039f"
             ],
             [
              0.2222222222222222,
              "#7201a8"
             ],
             [
              0.3333333333333333,
              "#9c179e"
             ],
             [
              0.4444444444444444,
              "#bd3786"
             ],
             [
              0.5555555555555556,
              "#d8576b"
             ],
             [
              0.6666666666666666,
              "#ed7953"
             ],
             [
              0.7777777777777778,
              "#fb9f3a"
             ],
             [
              0.8888888888888888,
              "#fdca26"
             ],
             [
              1,
              "#f0f921"
             ]
            ],
            "type": "histogram2d"
           }
          ],
          "histogram2dcontour": [
           {
            "colorbar": {
             "outlinewidth": 0,
             "ticks": ""
            },
            "colorscale": [
             [
              0,
              "#0d0887"
             ],
             [
              0.1111111111111111,
              "#46039f"
             ],
             [
              0.2222222222222222,
              "#7201a8"
             ],
             [
              0.3333333333333333,
              "#9c179e"
             ],
             [
              0.4444444444444444,
              "#bd3786"
             ],
             [
              0.5555555555555556,
              "#d8576b"
             ],
             [
              0.6666666666666666,
              "#ed7953"
             ],
             [
              0.7777777777777778,
              "#fb9f3a"
             ],
             [
              0.8888888888888888,
              "#fdca26"
             ],
             [
              1,
              "#f0f921"
             ]
            ],
            "type": "histogram2dcontour"
           }
          ],
          "mesh3d": [
           {
            "colorbar": {
             "outlinewidth": 0,
             "ticks": ""
            },
            "type": "mesh3d"
           }
          ],
          "parcoords": [
           {
            "line": {
             "colorbar": {
              "outlinewidth": 0,
              "ticks": ""
             }
            },
            "type": "parcoords"
           }
          ],
          "pie": [
           {
            "automargin": true,
            "type": "pie"
           }
          ],
          "scatter": [
           {
            "fillpattern": {
             "fillmode": "overlay",
             "size": 10,
             "solidity": 0.2
            },
            "type": "scatter"
           }
          ],
          "scatter3d": [
           {
            "line": {
             "colorbar": {
              "outlinewidth": 0,
              "ticks": ""
             }
            },
            "marker": {
             "colorbar": {
              "outlinewidth": 0,
              "ticks": ""
             }
            },
            "type": "scatter3d"
           }
          ],
          "scattercarpet": [
           {
            "marker": {
             "colorbar": {
              "outlinewidth": 0,
              "ticks": ""
             }
            },
            "type": "scattercarpet"
           }
          ],
          "scattergeo": [
           {
            "marker": {
             "colorbar": {
              "outlinewidth": 0,
              "ticks": ""
             }
            },
            "type": "scattergeo"
           }
          ],
          "scattergl": [
           {
            "marker": {
             "colorbar": {
              "outlinewidth": 0,
              "ticks": ""
             }
            },
            "type": "scattergl"
           }
          ],
          "scattermapbox": [
           {
            "marker": {
             "colorbar": {
              "outlinewidth": 0,
              "ticks": ""
             }
            },
            "type": "scattermapbox"
           }
          ],
          "scatterpolar": [
           {
            "marker": {
             "colorbar": {
              "outlinewidth": 0,
              "ticks": ""
             }
            },
            "type": "scatterpolar"
           }
          ],
          "scatterpolargl": [
           {
            "marker": {
             "colorbar": {
              "outlinewidth": 0,
              "ticks": ""
             }
            },
            "type": "scatterpolargl"
           }
          ],
          "scatterternary": [
           {
            "marker": {
             "colorbar": {
              "outlinewidth": 0,
              "ticks": ""
             }
            },
            "type": "scatterternary"
           }
          ],
          "surface": [
           {
            "colorbar": {
             "outlinewidth": 0,
             "ticks": ""
            },
            "colorscale": [
             [
              0,
              "#0d0887"
             ],
             [
              0.1111111111111111,
              "#46039f"
             ],
             [
              0.2222222222222222,
              "#7201a8"
             ],
             [
              0.3333333333333333,
              "#9c179e"
             ],
             [
              0.4444444444444444,
              "#bd3786"
             ],
             [
              0.5555555555555556,
              "#d8576b"
             ],
             [
              0.6666666666666666,
              "#ed7953"
             ],
             [
              0.7777777777777778,
              "#fb9f3a"
             ],
             [
              0.8888888888888888,
              "#fdca26"
             ],
             [
              1,
              "#f0f921"
             ]
            ],
            "type": "surface"
           }
          ],
          "table": [
           {
            "cells": {
             "fill": {
              "color": "#EBF0F8"
             },
             "line": {
              "color": "white"
             }
            },
            "header": {
             "fill": {
              "color": "#C8D4E3"
             },
             "line": {
              "color": "white"
             }
            },
            "type": "table"
           }
          ]
         },
         "layout": {
          "annotationdefaults": {
           "arrowcolor": "#2a3f5f",
           "arrowhead": 0,
           "arrowwidth": 1
          },
          "autotypenumbers": "strict",
          "coloraxis": {
           "colorbar": {
            "outlinewidth": 0,
            "ticks": ""
           }
          },
          "colorscale": {
           "diverging": [
            [
             0,
             "#8e0152"
            ],
            [
             0.1,
             "#c51b7d"
            ],
            [
             0.2,
             "#de77ae"
            ],
            [
             0.3,
             "#f1b6da"
            ],
            [
             0.4,
             "#fde0ef"
            ],
            [
             0.5,
             "#f7f7f7"
            ],
            [
             0.6,
             "#e6f5d0"
            ],
            [
             0.7,
             "#b8e186"
            ],
            [
             0.8,
             "#7fbc41"
            ],
            [
             0.9,
             "#4d9221"
            ],
            [
             1,
             "#276419"
            ]
           ],
           "sequential": [
            [
             0,
             "#0d0887"
            ],
            [
             0.1111111111111111,
             "#46039f"
            ],
            [
             0.2222222222222222,
             "#7201a8"
            ],
            [
             0.3333333333333333,
             "#9c179e"
            ],
            [
             0.4444444444444444,
             "#bd3786"
            ],
            [
             0.5555555555555556,
             "#d8576b"
            ],
            [
             0.6666666666666666,
             "#ed7953"
            ],
            [
             0.7777777777777778,
             "#fb9f3a"
            ],
            [
             0.8888888888888888,
             "#fdca26"
            ],
            [
             1,
             "#f0f921"
            ]
           ],
           "sequentialminus": [
            [
             0,
             "#0d0887"
            ],
            [
             0.1111111111111111,
             "#46039f"
            ],
            [
             0.2222222222222222,
             "#7201a8"
            ],
            [
             0.3333333333333333,
             "#9c179e"
            ],
            [
             0.4444444444444444,
             "#bd3786"
            ],
            [
             0.5555555555555556,
             "#d8576b"
            ],
            [
             0.6666666666666666,
             "#ed7953"
            ],
            [
             0.7777777777777778,
             "#fb9f3a"
            ],
            [
             0.8888888888888888,
             "#fdca26"
            ],
            [
             1,
             "#f0f921"
            ]
           ]
          },
          "colorway": [
           "#636efa",
           "#EF553B",
           "#00cc96",
           "#ab63fa",
           "#FFA15A",
           "#19d3f3",
           "#FF6692",
           "#B6E880",
           "#FF97FF",
           "#FECB52"
          ],
          "font": {
           "color": "#2a3f5f"
          },
          "geo": {
           "bgcolor": "white",
           "lakecolor": "white",
           "landcolor": "#E5ECF6",
           "showlakes": true,
           "showland": true,
           "subunitcolor": "white"
          },
          "hoverlabel": {
           "align": "left"
          },
          "hovermode": "closest",
          "mapbox": {
           "style": "light"
          },
          "paper_bgcolor": "white",
          "plot_bgcolor": "#E5ECF6",
          "polar": {
           "angularaxis": {
            "gridcolor": "white",
            "linecolor": "white",
            "ticks": ""
           },
           "bgcolor": "#E5ECF6",
           "radialaxis": {
            "gridcolor": "white",
            "linecolor": "white",
            "ticks": ""
           }
          },
          "scene": {
           "xaxis": {
            "backgroundcolor": "#E5ECF6",
            "gridcolor": "white",
            "gridwidth": 2,
            "linecolor": "white",
            "showbackground": true,
            "ticks": "",
            "zerolinecolor": "white"
           },
           "yaxis": {
            "backgroundcolor": "#E5ECF6",
            "gridcolor": "white",
            "gridwidth": 2,
            "linecolor": "white",
            "showbackground": true,
            "ticks": "",
            "zerolinecolor": "white"
           },
           "zaxis": {
            "backgroundcolor": "#E5ECF6",
            "gridcolor": "white",
            "gridwidth": 2,
            "linecolor": "white",
            "showbackground": true,
            "ticks": "",
            "zerolinecolor": "white"
           }
          },
          "shapedefaults": {
           "line": {
            "color": "#2a3f5f"
           }
          },
          "ternary": {
           "aaxis": {
            "gridcolor": "white",
            "linecolor": "white",
            "ticks": ""
           },
           "baxis": {
            "gridcolor": "white",
            "linecolor": "white",
            "ticks": ""
           },
           "bgcolor": "#E5ECF6",
           "caxis": {
            "gridcolor": "white",
            "linecolor": "white",
            "ticks": ""
           }
          },
          "title": {
           "x": 0.05
          },
          "xaxis": {
           "automargin": true,
           "gridcolor": "white",
           "linecolor": "white",
           "ticks": "",
           "title": {
            "standoff": 15
           },
           "zerolinecolor": "white",
           "zerolinewidth": 2
          },
          "yaxis": {
           "automargin": true,
           "gridcolor": "white",
           "linecolor": "white",
           "ticks": "",
           "title": {
            "standoff": 15
           },
           "zerolinecolor": "white",
           "zerolinewidth": 2
          }
         }
        },
        "width": 676,
        "xaxis": {
         "gridcolor": "LightGrey",
         "gridwidth": 1,
         "linecolor": "black",
         "linewidth": 1,
         "mirror": true,
         "showgrid": true,
         "showline": true,
         "tickangle": 0,
         "ticktext": [
          "100",
          "2100",
          "5000",
          "14500"
         ],
         "tickvals": [
          0,
          1,
          2,
          3
         ],
         "title": {
          "text": "Number of Parameters"
         },
         "zeroline": false
        },
        "yaxis": {
         "gridcolor": "LightGrey",
         "gridwidth": 1,
         "linecolor": "black",
         "linewidth": 1,
         "mirror": true,
         "showgrid": true,
         "showline": true,
         "title": {
          "text": "TestLoss"
         },
         "zeroline": false
        }
       }
      },
      "text/html": [
       "<div>                            <div id=\"a094db5a-7438-436f-b024-28e1074d1606\" class=\"plotly-graph-div\" style=\"height:508px; width:676px;\"></div>            <script type=\"text/javascript\">                require([\"plotly\"], function(Plotly) {                    window.PLOTLYENV=window.PLOTLYENV || {};                                    if (document.getElementById(\"a094db5a-7438-436f-b024-28e1074d1606\")) {                    Plotly.newPlot(                        \"a094db5a-7438-436f-b024-28e1074d1606\",                        [{\"error_y\":{\"array\":[0.4891470670700073,0.18465693295001984,0.34428340196609497,0.21180817484855652],\"type\":\"data\",\"visible\":true},\"marker\":{\"color\":\"rgb(0,114,178)\"},\"name\":\"MLP\",\"x\":[0,1,2,3],\"y\":[3.78668212890625,2.1565520763397217,1.498905897140503,1.0371592044830322],\"type\":\"scatter\"},{\"error_y\":{\"array\":[0.5358635783195496,0.14180457592010498,0.12427469342947006,0.11771932989358902],\"type\":\"data\",\"visible\":true},\"marker\":{\"color\":\"rgb(213,94,0)\"},\"name\":\"U-RBF\",\"x\":[0,1,2,3],\"y\":[2.4270272254943848,1.4246159791946411,1.2030274868011475,1.0714821815490723],\"type\":\"scatter\"},{\"error_y\":{\"array\":[2.2469146251678467,0.3281210660934448,0.30604150891304016,0.24715778231620789],\"type\":\"data\",\"visible\":true},\"marker\":{\"color\":\"rgb(0,158,115)\"},\"name\":\"M-RBF\",\"x\":[0,1,2,3],\"y\":[9.974812507629395,3.646197557449341,3.3394358158111572,2.7403175830841064],\"type\":\"scatter\"}],                        {\"font\":{\"color\":\"black\",\"family\":\"Times New Roman\",\"size\":32},\"height\":508,\"legend\":{\"orientation\":\"h\",\"x\":1,\"xanchor\":\"right\",\"y\":1.02,\"yanchor\":\"bottom\"},\"margin\":{\"b\":100,\"l\":140,\"r\":8,\"t\":0},\"paper_bgcolor\":\"rgba(0,0,0,0)\",\"plot_bgcolor\":\"rgba(0,0,0,0)\",\"showlegend\":true,\"width\":676,\"xaxis\":{\"gridcolor\":\"LightGrey\",\"gridwidth\":1,\"linecolor\":\"black\",\"linewidth\":1,\"mirror\":true,\"showgrid\":true,\"showline\":true,\"tickangle\":0,\"ticktext\":[\"100\",\"2100\",\"5000\",\"14500\"],\"tickvals\":[0,1,2,3],\"title\":{\"text\":\"Number of Parameters\"},\"zeroline\":false},\"yaxis\":{\"gridcolor\":\"LightGrey\",\"gridwidth\":1,\"linecolor\":\"black\",\"linewidth\":1,\"mirror\":true,\"showgrid\":true,\"showline\":true,\"title\":{\"text\":\"TestLoss\"},\"zeroline\":false},\"template\":{\"data\":{\"histogram2dcontour\":[{\"type\":\"histogram2dcontour\",\"colorbar\":{\"outlinewidth\":0,\"ticks\":\"\"},\"colorscale\":[[0.0,\"#0d0887\"],[0.1111111111111111,\"#46039f\"],[0.2222222222222222,\"#7201a8\"],[0.3333333333333333,\"#9c179e\"],[0.4444444444444444,\"#bd3786\"],[0.5555555555555556,\"#d8576b\"],[0.6666666666666666,\"#ed7953\"],[0.7777777777777778,\"#fb9f3a\"],[0.8888888888888888,\"#fdca26\"],[1.0,\"#f0f921\"]]}],\"choropleth\":[{\"type\":\"choropleth\",\"colorbar\":{\"outlinewidth\":0,\"ticks\":\"\"}}],\"histogram2d\":[{\"type\":\"histogram2d\",\"colorbar\":{\"outlinewidth\":0,\"ticks\":\"\"},\"colorscale\":[[0.0,\"#0d0887\"],[0.1111111111111111,\"#46039f\"],[0.2222222222222222,\"#7201a8\"],[0.3333333333333333,\"#9c179e\"],[0.4444444444444444,\"#bd3786\"],[0.5555555555555556,\"#d8576b\"],[0.6666666666666666,\"#ed7953\"],[0.7777777777777778,\"#fb9f3a\"],[0.8888888888888888,\"#fdca26\"],[1.0,\"#f0f921\"]]}],\"heatmap\":[{\"type\":\"heatmap\",\"colorbar\":{\"outlinewidth\":0,\"ticks\":\"\"},\"colorscale\":[[0.0,\"#0d0887\"],[0.1111111111111111,\"#46039f\"],[0.2222222222222222,\"#7201a8\"],[0.3333333333333333,\"#9c179e\"],[0.4444444444444444,\"#bd3786\"],[0.5555555555555556,\"#d8576b\"],[0.6666666666666666,\"#ed7953\"],[0.7777777777777778,\"#fb9f3a\"],[0.8888888888888888,\"#fdca26\"],[1.0,\"#f0f921\"]]}],\"heatmapgl\":[{\"type\":\"heatmapgl\",\"colorbar\":{\"outlinewidth\":0,\"ticks\":\"\"},\"colorscale\":[[0.0,\"#0d0887\"],[0.1111111111111111,\"#46039f\"],[0.2222222222222222,\"#7201a8\"],[0.3333333333333333,\"#9c179e\"],[0.4444444444444444,\"#bd3786\"],[0.5555555555555556,\"#d8576b\"],[0.6666666666666666,\"#ed7953\"],[0.7777777777777778,\"#fb9f3a\"],[0.8888888888888888,\"#fdca26\"],[1.0,\"#f0f921\"]]}],\"contourcarpet\":[{\"type\":\"contourcarpet\",\"colorbar\":{\"outlinewidth\":0,\"ticks\":\"\"}}],\"contour\":[{\"type\":\"contour\",\"colorbar\":{\"outlinewidth\":0,\"ticks\":\"\"},\"colorscale\":[[0.0,\"#0d0887\"],[0.1111111111111111,\"#46039f\"],[0.2222222222222222,\"#7201a8\"],[0.3333333333333333,\"#9c179e\"],[0.4444444444444444,\"#bd3786\"],[0.5555555555555556,\"#d8576b\"],[0.6666666666666666,\"#ed7953\"],[0.7777777777777778,\"#fb9f3a\"],[0.8888888888888888,\"#fdca26\"],[1.0,\"#f0f921\"]]}],\"surface\":[{\"type\":\"surface\",\"colorbar\":{\"outlinewidth\":0,\"ticks\":\"\"},\"colorscale\":[[0.0,\"#0d0887\"],[0.1111111111111111,\"#46039f\"],[0.2222222222222222,\"#7201a8\"],[0.3333333333333333,\"#9c179e\"],[0.4444444444444444,\"#bd3786\"],[0.5555555555555556,\"#d8576b\"],[0.6666666666666666,\"#ed7953\"],[0.7777777777777778,\"#fb9f3a\"],[0.8888888888888888,\"#fdca26\"],[1.0,\"#f0f921\"]]}],\"mesh3d\":[{\"type\":\"mesh3d\",\"colorbar\":{\"outlinewidth\":0,\"ticks\":\"\"}}],\"scatter\":[{\"fillpattern\":{\"fillmode\":\"overlay\",\"size\":10,\"solidity\":0.2},\"type\":\"scatter\"}],\"parcoords\":[{\"type\":\"parcoords\",\"line\":{\"colorbar\":{\"outlinewidth\":0,\"ticks\":\"\"}}}],\"scatterpolargl\":[{\"type\":\"scatterpolargl\",\"marker\":{\"colorbar\":{\"outlinewidth\":0,\"ticks\":\"\"}}}],\"bar\":[{\"error_x\":{\"color\":\"#2a3f5f\"},\"error_y\":{\"color\":\"#2a3f5f\"},\"marker\":{\"line\":{\"color\":\"#E5ECF6\",\"width\":0.5},\"pattern\":{\"fillmode\":\"overlay\",\"size\":10,\"solidity\":0.2}},\"type\":\"bar\"}],\"scattergeo\":[{\"type\":\"scattergeo\",\"marker\":{\"colorbar\":{\"outlinewidth\":0,\"ticks\":\"\"}}}],\"scatterpolar\":[{\"type\":\"scatterpolar\",\"marker\":{\"colorbar\":{\"outlinewidth\":0,\"ticks\":\"\"}}}],\"histogram\":[{\"marker\":{\"pattern\":{\"fillmode\":\"overlay\",\"size\":10,\"solidity\":0.2}},\"type\":\"histogram\"}],\"scattergl\":[{\"type\":\"scattergl\",\"marker\":{\"colorbar\":{\"outlinewidth\":0,\"ticks\":\"\"}}}],\"scatter3d\":[{\"type\":\"scatter3d\",\"line\":{\"colorbar\":{\"outlinewidth\":0,\"ticks\":\"\"}},\"marker\":{\"colorbar\":{\"outlinewidth\":0,\"ticks\":\"\"}}}],\"scattermapbox\":[{\"type\":\"scattermapbox\",\"marker\":{\"colorbar\":{\"outlinewidth\":0,\"ticks\":\"\"}}}],\"scatterternary\":[{\"type\":\"scatterternary\",\"marker\":{\"colorbar\":{\"outlinewidth\":0,\"ticks\":\"\"}}}],\"scattercarpet\":[{\"type\":\"scattercarpet\",\"marker\":{\"colorbar\":{\"outlinewidth\":0,\"ticks\":\"\"}}}],\"carpet\":[{\"aaxis\":{\"endlinecolor\":\"#2a3f5f\",\"gridcolor\":\"white\",\"linecolor\":\"white\",\"minorgridcolor\":\"white\",\"startlinecolor\":\"#2a3f5f\"},\"baxis\":{\"endlinecolor\":\"#2a3f5f\",\"gridcolor\":\"white\",\"linecolor\":\"white\",\"minorgridcolor\":\"white\",\"startlinecolor\":\"#2a3f5f\"},\"type\":\"carpet\"}],\"table\":[{\"cells\":{\"fill\":{\"color\":\"#EBF0F8\"},\"line\":{\"color\":\"white\"}},\"header\":{\"fill\":{\"color\":\"#C8D4E3\"},\"line\":{\"color\":\"white\"}},\"type\":\"table\"}],\"barpolar\":[{\"marker\":{\"line\":{\"color\":\"#E5ECF6\",\"width\":0.5},\"pattern\":{\"fillmode\":\"overlay\",\"size\":10,\"solidity\":0.2}},\"type\":\"barpolar\"}],\"pie\":[{\"automargin\":true,\"type\":\"pie\"}]},\"layout\":{\"autotypenumbers\":\"strict\",\"colorway\":[\"#636efa\",\"#EF553B\",\"#00cc96\",\"#ab63fa\",\"#FFA15A\",\"#19d3f3\",\"#FF6692\",\"#B6E880\",\"#FF97FF\",\"#FECB52\"],\"font\":{\"color\":\"#2a3f5f\"},\"hovermode\":\"closest\",\"hoverlabel\":{\"align\":\"left\"},\"paper_bgcolor\":\"white\",\"plot_bgcolor\":\"#E5ECF6\",\"polar\":{\"bgcolor\":\"#E5ECF6\",\"angularaxis\":{\"gridcolor\":\"white\",\"linecolor\":\"white\",\"ticks\":\"\"},\"radialaxis\":{\"gridcolor\":\"white\",\"linecolor\":\"white\",\"ticks\":\"\"}},\"ternary\":{\"bgcolor\":\"#E5ECF6\",\"aaxis\":{\"gridcolor\":\"white\",\"linecolor\":\"white\",\"ticks\":\"\"},\"baxis\":{\"gridcolor\":\"white\",\"linecolor\":\"white\",\"ticks\":\"\"},\"caxis\":{\"gridcolor\":\"white\",\"linecolor\":\"white\",\"ticks\":\"\"}},\"coloraxis\":{\"colorbar\":{\"outlinewidth\":0,\"ticks\":\"\"}},\"colorscale\":{\"sequential\":[[0.0,\"#0d0887\"],[0.1111111111111111,\"#46039f\"],[0.2222222222222222,\"#7201a8\"],[0.3333333333333333,\"#9c179e\"],[0.4444444444444444,\"#bd3786\"],[0.5555555555555556,\"#d8576b\"],[0.6666666666666666,\"#ed7953\"],[0.7777777777777778,\"#fb9f3a\"],[0.8888888888888888,\"#fdca26\"],[1.0,\"#f0f921\"]],\"sequentialminus\":[[0.0,\"#0d0887\"],[0.1111111111111111,\"#46039f\"],[0.2222222222222222,\"#7201a8\"],[0.3333333333333333,\"#9c179e\"],[0.4444444444444444,\"#bd3786\"],[0.5555555555555556,\"#d8576b\"],[0.6666666666666666,\"#ed7953\"],[0.7777777777777778,\"#fb9f3a\"],[0.8888888888888888,\"#fdca26\"],[1.0,\"#f0f921\"]],\"diverging\":[[0,\"#8e0152\"],[0.1,\"#c51b7d\"],[0.2,\"#de77ae\"],[0.3,\"#f1b6da\"],[0.4,\"#fde0ef\"],[0.5,\"#f7f7f7\"],[0.6,\"#e6f5d0\"],[0.7,\"#b8e186\"],[0.8,\"#7fbc41\"],[0.9,\"#4d9221\"],[1,\"#276419\"]]},\"xaxis\":{\"gridcolor\":\"white\",\"linecolor\":\"white\",\"ticks\":\"\",\"title\":{\"standoff\":15},\"zerolinecolor\":\"white\",\"automargin\":true,\"zerolinewidth\":2},\"yaxis\":{\"gridcolor\":\"white\",\"linecolor\":\"white\",\"ticks\":\"\",\"title\":{\"standoff\":15},\"zerolinecolor\":\"white\",\"automargin\":true,\"zerolinewidth\":2},\"scene\":{\"xaxis\":{\"backgroundcolor\":\"#E5ECF6\",\"gridcolor\":\"white\",\"linecolor\":\"white\",\"showbackground\":true,\"ticks\":\"\",\"zerolinecolor\":\"white\",\"gridwidth\":2},\"yaxis\":{\"backgroundcolor\":\"#E5ECF6\",\"gridcolor\":\"white\",\"linecolor\":\"white\",\"showbackground\":true,\"ticks\":\"\",\"zerolinecolor\":\"white\",\"gridwidth\":2},\"zaxis\":{\"backgroundcolor\":\"#E5ECF6\",\"gridcolor\":\"white\",\"linecolor\":\"white\",\"showbackground\":true,\"ticks\":\"\",\"zerolinecolor\":\"white\",\"gridwidth\":2}},\"shapedefaults\":{\"line\":{\"color\":\"#2a3f5f\"}},\"annotationdefaults\":{\"arrowcolor\":\"#2a3f5f\",\"arrowhead\":0,\"arrowwidth\":1},\"geo\":{\"bgcolor\":\"white\",\"landcolor\":\"#E5ECF6\",\"subunitcolor\":\"white\",\"showland\":true,\"showlakes\":true,\"lakecolor\":\"white\"},\"title\":{\"x\":0.05},\"mapbox\":{\"style\":\"light\"}}}},                        {\"responsive\": true}                    ).then(function(){\n",
       "                            \n",
       "var gd = document.getElementById('a094db5a-7438-436f-b024-28e1074d1606');\n",
       "var x = new MutationObserver(function (mutations, observer) {{\n",
       "        var display = window.getComputedStyle(gd).display;\n",
       "        if (!display || display === 'none') {{\n",
       "            console.log([gd, 'removed!']);\n",
       "            Plotly.purge(gd);\n",
       "            observer.disconnect();\n",
       "        }}\n",
       "}});\n",
       "\n",
       "// Listen for the removal of the full notebook cells\n",
       "var notebookContainer = gd.closest('#notebook-container');\n",
       "if (notebookContainer) {{\n",
       "    x.observe(notebookContainer, {childList: true});\n",
       "}}\n",
       "\n",
       "// Listen for the clearing of the current output cell\n",
       "var outputEl = gd.closest('.output');\n",
       "if (outputEl) {{\n",
       "    x.observe(outputEl, {childList: true});\n",
       "}}\n",
       "\n",
       "                        })                };                });            </script>        </div>"
      ]
     },
     "metadata": {},
     "output_type": "display_data"
    }
   ],
   "source": [
    "# plotting\n",
    "import plotly.graph_objects as go\n",
    "import plotly\n",
    "\n",
    "# default print properties\n",
    "multiplier = 4\n",
    "\n",
    "pixel_cm_ration = 36.5\n",
    "\n",
    "width_full = int(13.95 * pixel_cm_ration) * multiplier\n",
    "width_half = int(13.95/2 * pixel_cm_ration) * multiplier\n",
    "width_third = int(13.95/3 * pixel_cm_ration) * multiplier\n",
    "\n",
    "height_default_1 = int(3.5 * pixel_cm_ration) * multiplier\n",
    "\n",
    "# margins in pixel\n",
    "top_margin = 0 * multiplier \n",
    "left_margin = 35 * multiplier \n",
    "right_margin = 2 * multiplier \n",
    "bottom_margin = 25 * multiplier \n",
    "\n",
    "font_size = 8 * multiplier \n",
    "font_family='Times New Roman'\n",
    "\n",
    "line_width = 1 * multiplier \n",
    "\n",
    "layout = eu.AttrDict(\n",
    "        paper_bgcolor='rgba(0,0,0,0)',\n",
    "        plot_bgcolor='rgba(0,0,0,0)',\n",
    "        \n",
    "        xaxis = eu.AttrDict(\n",
    "            title = 'Number of Parameters',\n",
    "            showline = True,\n",
    "            linewidth = 1,\n",
    "            zeroline=False,\n",
    "            linecolor='black',\n",
    "            showgrid=True,\n",
    "            gridwidth=1,\n",
    "            gridcolor='LightGrey',\n",
    "            mirror=True,\n",
    "            tickvals = np.arange(len(ranges)),\n",
    "            ticktext = ranges, \n",
    "            tickangle = 0, \n",
    "        ),\n",
    "        yaxis = eu.AttrDict(\n",
    "            title = 'TestLoss',\n",
    "            showline = True,\n",
    "            linewidth = 1,\n",
    "            zeroline=False,\n",
    "            linecolor='black',\n",
    "            showgrid=True,\n",
    "            gridwidth=1,\n",
    "            gridcolor='LightGrey',\n",
    "            mirror=True,\n",
    "        ),\n",
    "        font = eu.AttrDict(\n",
    "            family=font_family, \n",
    "            size=font_size,\n",
    "            color='black',\n",
    "            ),\n",
    "        width=width_third, # in cm\n",
    "        height=height_default_1, # in cm\n",
    "        \n",
    "        margin = eu.AttrDict(\n",
    "            l=left_margin, #left margin in pixel\n",
    "            r=right_margin, #right margin in pixel\n",
    "            b=bottom_margin, #bottom margin in pixel\n",
    "            t=top_margin,  #top margin in pixel\n",
    "            ),\n",
    "\n",
    "        showlegend=True,\n",
    "        legend=eu.AttrDict(\n",
    "                orientation=\"h\",\n",
    "                yanchor=\"bottom\",\n",
    "                y=1.02,\n",
    "                xanchor=\"right\",\n",
    "                x=1,\n",
    "            \n",
    "            ), \n",
    "        )\n",
    "\n",
    "default_colors = [\n",
    "    #'rgb(0,0,0)', # black\n",
    "    #'rgb(0,0,0)', # black\n",
    "    'rgb(0,114,178)',  # dark blue\n",
    "    'rgb(213,94,0)',  # orange\n",
    "    'rgb(0,158,115)', # green\n",
    "\n",
    "] \n",
    "\n",
    "fig = go.Figure(layout=layout)\n",
    "for exp_idx, exp_label in enumerate(labels):\n",
    "\n",
    "    fig.add_trace(go.Scatter(\n",
    "            x=np.arange(len(ranges)),\n",
    "            y=collected_experiment_data[exp_idx].means,\n",
    "            error_y=dict(\n",
    "                type='data', # value of error bar given in data coordinates\n",
    "                array=collected_experiment_data[exp_idx].stds,\n",
    "                visible=True),\n",
    "            name= exp_label,\n",
    "            marker_color=default_colors[exp_idx]\n",
    "        )\n",
    "    )\n",
    "\n",
    "    \n",
    "#plotly.io.write_image(fig, '../../analyze/iclr_figures/result_linear_model_task_difficulty_total_return.pdf')    \n",
    "plotly.io.write_image(fig, './test_loss_params_disc.pdf')    \n",
    "fig.show()"
   ]
  },
  {
   "cell_type": "markdown",
   "metadata": {
    "heading_collapsed": true
   },
   "source": [
    "# Ratios"
   ]
  },
  {
   "cell_type": "code",
   "execution_count": null,
   "metadata": {
    "code_folding": [],
    "hidden": true
   },
   "outputs": [],
   "source": [
    "# parameters\n",
    "experiment_ids = [\n",
    "    #'00000',\n",
    "    '130001',\n",
    "    '120001',\n",
    "    #'25300',\n",
    "    '110001',\n",
    "    '100001',\n",
    "]\n",
    "\n",
    "labels = [\n",
    "    'MLP',\n",
    "    'RBF'\n",
    "]\n",
    "\n",
    "# ranges = [\n",
    "#     '[0.0 0.25]',\n",
    "#     '[0.25 0.5]',\n",
    "#     '[0.5 0.75]',\n",
    "#     '[0.75 1.0]',\n",
    "#     '[1.0 1.25]',\n",
    "#     '[1.25 1.5]',\n",
    "#     '[1.5 1.75]',\n",
    "# ]\n",
    "\n",
    "#ranges = [\n",
    "#    '0.125',\n",
    "#    '0.375',\n",
    "#    '0.625',\n",
    "#    '0.875',\n",
    "#    '1.125',\n",
    "#    '1.375',\n",
    "#    '1.625',\n",
    "#]\n",
    "ranges = ['0', '1', '3', '5']"
   ]
  },
  {
   "cell_type": "code",
   "execution_count": null,
   "metadata": {
    "code_folding": [],
    "hidden": true
   },
   "outputs": [],
   "source": [
    "# collect data \n",
    "collected_experiment_data = []\n",
    "\n",
    "for experiment_id_templates in experiment_ids:\n",
    "    \n",
    "    cur_data = eu.AttrDict()\n",
    "    cur_data.means = []\n",
    "    cur_data.stds = []\n",
    "    \n",
    "    for range_idx in range(len(ranges)):\n",
    "        \n",
    "        experiment_id_1 = '{}{}'.format(experiment_id_templates[0], range_idx)\n",
    "        experiment_id_2 = '{}{}'.format(experiment_id_templates[1], range_idx)\n",
    "        \n",
    "        ratios = []\n",
    "        for rep_idx in experiment_data_loader.experiment_data[experiment_id_1].repetition_data.keys():\n",
    "            \n",
    "            rep_data_1 = experiment_data_loader.experiment_data[experiment_id_1].repetition_data[rep_idx]\n",
    "            rep_data_2 = experiment_data_loader.experiment_data[experiment_id_2].repetition_data[rep_idx]\n",
    "            \n",
    "            ratios.append(rep_data_1.total_reward[0] / rep_data_2.total_reward[0])\n",
    "    \n",
    "        cur_data.means.append(np.mean(ratios))\n",
    "        cur_data.stds.append(np.std(ratios))\n",
    "         \n",
    "    collected_experiment_data.append(cur_data)"
   ]
  },
  {
   "cell_type": "code",
   "execution_count": null,
   "metadata": {
    "code_folding": [],
    "hidden": true
   },
   "outputs": [],
   "source": [
    "# plotting\n",
    "import plotly.graph_objects as go\n",
    "import plotly\n",
    "\n",
    "# default print properties\n",
    "multiplier = 2\n",
    "\n",
    "pixel_cm_ration = 36.5\n",
    "\n",
    "width_full = int(13.95 * pixel_cm_ration) * multiplier\n",
    "width_half = int(13.95/2 * pixel_cm_ration) * multiplier\n",
    "width_third = int(16/3 * pixel_cm_ration) * multiplier\n",
    "\n",
    "height_default_1 = int(3.4 * pixel_cm_ration) * multiplier\n",
    "\n",
    "# margins in pixel\n",
    "top_margin = 0 * multiplier \n",
    "left_margin = 10 * multiplier \n",
    "right_margin = 0 * multiplier \n",
    "bottom_margin = 25 * multiplier \n",
    "\n",
    "font_size = 8 * multiplier \n",
    "font_family='Times New Roman'\n",
    "\n",
    "line_width = 1 * multiplier \n",
    "\n",
    "layout = eu.AttrDict(\n",
    "        paper_bgcolor='rgba(0,0,0,0)',\n",
    "        plot_bgcolor='rgba(0,0,0,0)',\n",
    "        \n",
    "        xaxis = eu.AttrDict(\n",
    "            title = 'Mean Error of Linear Model',\n",
    "            showline = True,\n",
    "            linewidth = 1,\n",
    "            zeroline=False,\n",
    "            linecolor='black',\n",
    "            showgrid=True,\n",
    "            gridwidth=1,\n",
    "            gridcolor='LightGrey',\n",
    "            mirror=True,\n",
    "            tickvals = np.arange(len(ranges)),\n",
    "            ticktext = ranges,  \n",
    "            tickangle = 30, \n",
    "        ),\n",
    "        yaxis = eu.AttrDict(\n",
    "            title = 'Total Return Ratio',\n",
    "            showline = True,\n",
    "            linewidth = 1,\n",
    "            zeroline=False,\n",
    "            linecolor='black',\n",
    "            showgrid=True,\n",
    "            gridwidth=1,\n",
    "            gridcolor='LightGrey',\n",
    "            mirror=True,\n",
    "        ),\n",
    "        font = eu.AttrDict(\n",
    "            family=font_family, \n",
    "            size=font_size,\n",
    "            color='black',\n",
    "            ),\n",
    "        width=width_third, # in cm\n",
    "        height=height_default_1, # in cm\n",
    "        \n",
    "        margin = eu.AttrDict(\n",
    "            l=left_margin, #left margin in pixel\n",
    "            r=right_margin, #right margin in pixel\n",
    "            b=bottom_margin, #bottom margin in pixel\n",
    "            t=top_margin,  #top margin in pixel\n",
    "            ),\n",
    "\n",
    "        showlegend=True,\n",
    "        legend=eu.AttrDict(\n",
    "                orientation=\"h\",\n",
    "                yanchor=\"bottom\",\n",
    "                y=1.02,\n",
    "                xanchor=\"right\",\n",
    "                x=1,\n",
    "            \n",
    "            ), \n",
    "        )\n",
    "\n",
    "default_colors = [\n",
    "    'rgb(0,0,0)', # black\n",
    "    'rgb(0,114,178)',  # dark blue\n",
    "] \n",
    "\n",
    "\n",
    "fig = go.Figure(layout=layout)\n",
    "for exp_idx, exp_label in enumerate(labels):\n",
    "\n",
    "    fig.add_trace(go.Scatter(\n",
    "            x=np.arange(len(ranges)),\n",
    "            y=collected_experiment_data[exp_idx].means,\n",
    "            error_y=dict(\n",
    "                type='data', # value of error bar given in data coordinates\n",
    "                array=collected_experiment_data[exp_idx].stds,\n",
    "                visible=True),\n",
    "            name= exp_label,\n",
    "            marker_color=default_colors[exp_idx]\n",
    "        )\n",
    "    )\n",
    "\n",
    "    \n",
    "#plotly.io.write_image(fig, '../../analyze/iclr_figures/result_linear_model_task_difficulty_ratio.pdf') \n",
    "# plotly.io.write_image(fig, './result_linear_model_task_difficulty_ratio.pdf') \n",
    "plotly.io.write_image(fig, '/scratchlocal/creinke/data/study/perception/experiments/continuous_sf_01/analyze/icml_figures/result_linear_model_task_difficulty_ratio.pdf') \n",
    "fig.show()"
   ]
  },
  {
   "cell_type": "markdown",
   "metadata": {},
   "source": [
    "# Test Loss vs Number of Neurons per Input"
   ]
  },
  {
   "cell_type": "code",
   "execution_count": 23,
   "metadata": {
    "code_folding": []
   },
   "outputs": [],
   "source": [
    "# parameters\n",
    "experiment_ids = [\n",
    "#   RBF begins\n",
    "    '200001',\n",
    "    '200002',\n",
    "    '200003',\n",
    "    '200015',\n",
    "    '200016',\n",
    "    '200017',\n",
    "    '200018',\n",
    "    '200019',\n",
    "    '200020',\n",
    "\n",
    "#   MLP + RBF begins\n",
    "    #'300001',\n",
    "    #'300002',\n",
    "    \n",
    "    #'300003',\n",
    "    #'300015',\n",
    "    #'300016',\n",
    "    #'300017',\n",
    "    #'300018',\n",
    "    #'300019',\n",
    "    #'300020',\n",
    "]\n",
    "\n",
    "labels = [\n",
    "    'U-RBF',\n",
    "    #'MLP + RBF'\n",
    "]\n",
    "\n",
    "# ranges = [\n",
    "#     '[0.0 0.25]',\n",
    "#     '[0.25 0.5]',\n",
    "#     '[0.5 0.75]',\n",
    "#     '[0.75 1.0]',\n",
    "#     '[1.0 1.25]',\n",
    "#     '[1.25 1.5]',\n",
    "#     '[1.5 1.75]',\n",
    "# ]\n",
    "\n",
    "#ranges = [\n",
    "#    '0.125',\n",
    "#    '0.375',\n",
    "#    '0.625',\n",
    "#    '0.875',\n",
    "#    '1.125',\n",
    "#    '1.375',\n",
    "#    '1.625',\n",
    "#]\n",
    "ranges = ['5', '7', '10', '13', '15', '20', '25', '30', '40']"
   ]
  },
  {
   "cell_type": "code",
   "execution_count": 24,
   "metadata": {
    "code_folding": []
   },
   "outputs": [
    {
     "name": "stdout",
     "output_type": "stream",
     "text": [
      "0\n",
      "200001\n",
      "1\n",
      "200002\n",
      "2\n",
      "200003\n",
      "3\n",
      "200015\n",
      "4\n",
      "200016\n",
      "5\n",
      "200017\n",
      "6\n",
      "200018\n",
      "7\n",
      "200019\n",
      "8\n",
      "200020\n"
     ]
    }
   ],
   "source": [
    "# collect data \n",
    "collected_experiment_data = []\n",
    "\n",
    "    \n",
    "for idx in range(1):\n",
    "    cur_data = eu.AttrDict()\n",
    "    cur_data.means = []\n",
    "    cur_data.stds = []\n",
    "    #cur_data.sems = []\n",
    "\n",
    "    for range_idx in range(len(ranges)):\n",
    "\n",
    "        #experiment_id = '{}{}'.format(experiment_id_template, range_idx)\n",
    "        print(4*idx + range_idx)\n",
    "        experiment_id ='{}'.format(experiment_ids[4*idx + range_idx])\n",
    "        print(experiment_id)\n",
    "\n",
    "        test_loss = []\n",
    "        for rep_data in experiment_data_loader.experiment_data[experiment_id].repetition_data.values():\n",
    "            test_loss.append(rep_data.TestLoss[0])\n",
    "\n",
    "        cur_data.means.append(np.mean(test_loss))\n",
    "        cur_data.stds.append(np.std(test_loss))\n",
    "        #cur_data.means.append(np.mean(total_rewards))\n",
    "\n",
    "    collected_experiment_data.append(cur_data)"
   ]
  },
  {
   "cell_type": "code",
   "execution_count": 25,
   "metadata": {
    "code_folding": []
   },
   "outputs": [],
   "source": [
    "# plotting\n",
    "import plotly.graph_objects as go\n",
    "import plotly\n",
    "\n",
    "# default print properties\n",
    "multiplier = 3\n",
    "\n",
    "pixel_cm_ration = 36.5\n",
    "\n",
    "width_full = int(13.95 * pixel_cm_ration) * multiplier\n",
    "width_half = int(13.95/2 * pixel_cm_ration) * multiplier\n",
    "width_third = int(13.95/3 * pixel_cm_ration) * multiplier\n",
    "\n",
    "height_default_1 = int(3.5 * pixel_cm_ration) * multiplier\n",
    "\n",
    "# margins in pixel\n",
    "top_margin = 0 * multiplier \n",
    "left_margin = 35 * multiplier \n",
    "right_margin = 2 * multiplier \n",
    "bottom_margin = 25 * multiplier \n",
    "\n",
    "font_size = 8 * multiplier \n",
    "font_family='Times New Roman'\n",
    "\n",
    "line_width = 1 * multiplier \n",
    "\n",
    "layout = eu.AttrDict(\n",
    "        paper_bgcolor='rgba(0,0,0,0)',\n",
    "        plot_bgcolor='rgba(0,0,0,0)',\n",
    "        \n",
    "        xaxis = eu.AttrDict(\n",
    "            title = 'Number of neurons per input',\n",
    "            showline = True,\n",
    "            linewidth = 1,\n",
    "            zeroline=False,\n",
    "            linecolor='black',\n",
    "            showgrid=True,\n",
    "            gridwidth=1,\n",
    "            gridcolor='LightGrey',\n",
    "            mirror=True,\n",
    "            tickvals = np.arange(len(ranges)),\n",
    "            ticktext = ranges, \n",
    "            tickangle = 0, \n",
    "        ),\n",
    "        yaxis = eu.AttrDict(\n",
    "            title = 'TestLoss',\n",
    "            showline = True,\n",
    "            linewidth = 1,\n",
    "            zeroline=False,\n",
    "            linecolor='black',\n",
    "            showgrid=True,\n",
    "            gridwidth=1,\n",
    "            gridcolor='LightGrey',\n",
    "            mirror=True,\n",
    "        ),\n",
    "        font = eu.AttrDict(\n",
    "            family=font_family, \n",
    "            size=font_size,\n",
    "            color='black',\n",
    "            ),\n",
    "        width=width_third, # in cm\n",
    "        height=height_default_1, # in cm\n",
    "        \n",
    "        margin = eu.AttrDict(\n",
    "            l=left_margin, #left margin in pixel\n",
    "            r=right_margin, #right margin in pixel\n",
    "            b=bottom_margin, #bottom margin in pixel\n",
    "            t=top_margin,  #top margin in pixel\n",
    "            ),\n",
    "\n",
    "        showlegend=True,\n",
    "        legend=eu.AttrDict(\n",
    "                orientation=\"h\",\n",
    "                yanchor=\"bottom\",\n",
    "                y=1.02,\n",
    "                xanchor=\"right\",\n",
    "                x=1,\n",
    "            \n",
    "            ), \n",
    "        )\n",
    "\n",
    "default_colors = [\n",
    "    #'rgb(0,158,115)', # green\n",
    "    #'rgb(0,0,0)', # black\n",
    "    #'rgb(0,0,0)', # black\n",
    "    #'rgb(0,114,178)',  # dark blue\n",
    "    'rgb(213,94,0)',  # orange\n",
    "] \n",
    "\n",
    "fig = go.Figure(layout=layout)\n",
    "for exp_idx, exp_label in enumerate(labels):\n",
    "\n",
    "    fig.add_trace(go.Scatter(\n",
    "            x=np.arange(len(ranges)),\n",
    "            y=collected_experiment_data[exp_idx].means,\n",
    "            error_y=dict(\n",
    "                type='data', # value of error bar given in data coordinates\n",
    "                array=collected_experiment_data[exp_idx].stds,\n",
    "                visible=True),\n",
    "            name= exp_label,\n",
    "            marker_color=default_colors[exp_idx]\n",
    "        )\n",
    "    )\n",
    "\n",
    "    \n",
    "#plotly.io.write_image(fig, '../../analyze/iclr_figures/result_linear_model_task_difficulty_total_return.pdf')    \n",
    "plotly.io.write_image(fig, './testloss_nn_disc.pdf')    \n",
    "#fig.show()"
   ]
  },
  {
   "cell_type": "code",
   "execution_count": null,
   "metadata": {},
   "outputs": [],
   "source": []
  }
 ],
 "metadata": {
  "kernelspec": {
   "display_name": "Python 3 (ipykernel)",
   "language": "python",
   "name": "python3"
  },
  "language_info": {
   "codemirror_mode": {
    "name": "ipython",
    "version": 3
   },
   "file_extension": ".py",
   "mimetype": "text/x-python",
   "name": "python",
   "nbconvert_exporter": "python",
   "pygments_lexer": "ipython3",
   "version": "3.8.13"
  }
 },
 "nbformat": 4,
 "nbformat_minor": 4
}
