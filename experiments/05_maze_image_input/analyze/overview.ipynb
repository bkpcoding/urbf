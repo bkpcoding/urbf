{
 "cells": [
  {
   "cell_type": "code",
   "execution_count": 1,
   "metadata": {
    "code_folding": [],
    "scrolled": false
   },
   "outputs": [
    {
     "data": {
      "application/vnd.jupyter.widget-view+json": {
       "model_id": "993ab2cee9ca4dccb03a6ffdb5e03174",
       "version_major": 2,
       "version_minor": 0
      },
      "text/plain": [
       "ExperimentDataLoaderWidget(children=(Box(children=(Button(description='Update Descriptions', layout=Layout(hei…"
      ]
     },
     "metadata": {},
     "output_type": "display_data"
    }
   ],
   "source": [
    "# import the experiment utilities package\n",
    "import exputils as eu\n",
    "import numpy as np\n",
    "\n",
    "# create an experiment data loader, by default it will load data from '../experiments'\n",
    "experiment_data_loader = eu.gui.jupyter.ExperimentDataLoaderWidget()\n",
    "display(experiment_data_loader)"
   ]
  },
  {
   "cell_type": "code",
   "execution_count": 4,
   "metadata": {
    "code_folding": [
     0
    ],
    "scrolled": false
   },
   "outputs": [
    {
     "data": {
      "application/vnd.jupyter.widget-view+json": {
       "model_id": "6f3d864d61bf438d98fabc21a97cb22d",
       "version_major": 2,
       "version_minor": 0
      },
      "text/plain": [
       "ExperimentDataPlotSelectionWidget(children=(HBox(children=(Label(value='Data Sources:', layout=Layout(min_widt…"
      ]
     },
     "metadata": {},
     "output_type": "display_data"
    },
    {
     "data": {
      "application/vnd.jupyter.widget-view+json": {
       "model_id": "8e5bacd1324e42eda179f0a41c30cb35",
       "version_major": 2,
       "version_minor": 0
      },
      "text/plain": [
       "Output()"
      ]
     },
     "metadata": {},
     "output_type": "display_data"
    }
   ],
   "source": [
    "# experiment data selection plotter that takes as input the data loader to plot its loaded data\n",
    "experiment_data_plotter = eu.gui.jupyter.ExperimentDataPlotSelectionWidget(experiment_data_loader)\n",
    "display(experiment_data_plotter)"
   ]
  },
  {
   "cell_type": "code",
   "execution_count": 3,
   "metadata": {},
   "outputs": [],
   "source": [
    "import matplotlib\n",
    "import random\n",
    "import plotly.graph_objects as go\n",
    "import numpy as np\n",
    "import plotly.io as pio\n",
    "\n",
    "def plot_mlp_urbf(data_mlp, data_urbf, filename):\n",
    "    #random color generation in plotly\n",
    "    hex_colors_dic = {}\n",
    "    rgb_colors_dic = {}\n",
    "    hex_colors_only = []\n",
    "    for name, hex in matplotlib.colors.cnames.items():\n",
    "        hex_colors_only.append(hex)\n",
    "        hex_colors_dic[name] = hex\n",
    "        rgb_colors_dic[name] = matplotlib.colors.to_rgb(hex)\n",
    "\n",
    "\n",
    "    #calculating mean and standard deviation\n",
    "    mean_mlp=np.mean(data_mlp,axis=0)\n",
    "    std_mlp=np.std(data_mlp,axis=0)\n",
    "\n",
    "    mean_urbf=np.mean(data_urbf,axis=0)\n",
    "    std_urbf=np.std(data_urbf,axis=0)\n",
    "\n",
    "    #draw figure\n",
    "    fig = go.Figure()\n",
    "    c_mlp = '#205380'\n",
    "    c_urbf = '#f08d4f'\n",
    "    fig.add_trace(go.Scatter(x=np.arange(len(data_mlp[0])), y=mean_mlp+std_mlp,\n",
    "                                        mode='lines',\n",
    "                                        line=dict(color=c_mlp,width =0.05),\n",
    "                                        ))\n",
    "    fig.add_trace(go.Scatter(x=np.arange(len(data_mlp[0])), y=mean_mlp,\n",
    "                            mode='lines',\n",
    "                            line=dict(color=c_mlp),\n",
    "                            fill='tonexty',\n",
    "                            name='MLP'))\n",
    "    fig.add_trace(go.Scatter(x=np.arange(len(data_mlp[0])), y=mean_mlp-std_mlp,\n",
    "                            mode='lines',\n",
    "                            line=dict(color=c_mlp, width =0.05),\n",
    "                            fill='tonexty',\n",
    "                            ))\n",
    "\n",
    "    fig.add_trace(go.Scatter(x=np.arange(len(data_urbf[0])), y=mean_urbf+std_urbf,\n",
    "                                        mode='lines',\n",
    "                                        line=dict(color=c_urbf,width =0.05),\n",
    "                                        ))\n",
    "    fig.add_trace(go.Scatter(x=np.arange(len(data_urbf[0])), y=mean_urbf,\n",
    "                            mode='lines', \n",
    "                            line=dict(color=c_urbf),\n",
    "                            fill='tonexty',\n",
    "                            name='URBF'))\n",
    "    fig.add_trace(go.Scatter(x=np.arange(len(data_urbf[0])), y=mean_urbf-std_urbf,\n",
    "                            mode='lines',\n",
    "                            line=dict(color=c_urbf, width =0.05),\n",
    "                            fill='tonexty',\n",
    "                            ))\n",
    "    fig.data[0].showlegend = False\n",
    "    fig.data[2].showlegend = False\n",
    "    fig.data[3].showlegend = False\n",
    "    fig.data[5].showlegend = False\n",
    "    fig.update_layout(\n",
    "        margin=dict(l=0, r=0, t=0, b=0),\n",
    "        paper_bgcolor='rgba(0,0,0,0)',\n",
    "        plot_bgcolor='rgba(0,0,0,0)',\n",
    "        xaxis=dict(\n",
    "            showline=True,\n",
    "            linecolor='black',\n",
    "            linewidth=1,\n",
    "            mirror=True\n",
    "        ),\n",
    "        yaxis=dict(\n",
    "            showline=True,\n",
    "            linecolor='black',\n",
    "            linewidth=1,\n",
    "            mirror=True\n",
    "        ),\n",
    "\n",
    "    )\n",
    "    fig.update_layout(\n",
    "        yaxis_title=\"reward\",\n",
    "        xaxis_title=\"time step (x10^3)\",\n",
    "    )\n",
    "\n",
    "    # Save figure as PDF with a rectangular shape\n",
    "    width = float(210 / 25.4)  # 210mm to inches\n",
    "    height = float(297 / 25.4) / 3  # 297mm divided by 3 and converted to inches\n",
    "    pio.write_image(fig, filename, width=500, height=300)\n",
    "\n"
   ]
  },
  {
   "cell_type": "code",
   "execution_count": 2,
   "metadata": {},
   "outputs": [],
   "source": [
    "import matplotlib\n",
    "import random\n",
    "import plotly.graph_objects as go\n",
    "import numpy as np\n",
    "import plotly.io as pio\n",
    "\n",
    "def plot_mlp_urbf_mrbf(data_mlp, data_urbf, data_mrbf, filename):\n",
    "    #random color generation in plotly\n",
    "    hex_colors_dic = {}\n",
    "    rgb_colors_dic = {}\n",
    "    hex_colors_only = []\n",
    "    for name, hex in matplotlib.colors.cnames.items():\n",
    "        hex_colors_only.append(hex)\n",
    "        hex_colors_dic[name] = hex\n",
    "        rgb_colors_dic[name] = matplotlib.colors.to_rgb(hex)\n",
    "\n",
    "\n",
    "    #calculating mean and standard deviation\n",
    "    mean_mlp=np.mean(data_mlp,axis=0)\n",
    "    std_mlp=np.std(data_mlp,axis=0)\n",
    "\n",
    "    mean_urbf=np.mean(data_urbf,axis=0)\n",
    "    std_urbf=np.std(data_urbf,axis=0)\n",
    "    \n",
    "    mean_mrbf=np.mean(data_mrbf,axis=0)\n",
    "    std_mrbf=np.std(data_mrbf,axis=0)\n",
    "\n",
    "\n",
    "    #draw figure\n",
    "    fig = go.Figure()\n",
    "    c_mlp = '#205380'\n",
    "    c_urbf = '#f08d4f'\n",
    "    c_mrbf = '#669900'\n",
    "    fig.add_trace(go.Scatter(x=np.arange(len(data_mlp[0])), y=mean_mlp+std_mlp,\n",
    "                                        mode='lines',\n",
    "                                        line=dict(color=c_mlp,width =0.02),\n",
    "                                        ))\n",
    "    fig.add_trace(go.Scatter(x=np.arange(len(data_mlp[0])), y=mean_mlp,\n",
    "                            mode='lines',\n",
    "                            line=dict(color=c_mlp, width=0.8),\n",
    "                            fill='tonexty',\n",
    "                            name='MLP'))\n",
    "    fig.add_trace(go.Scatter(x=np.arange(len(data_mlp[0])), y=mean_mlp-std_mlp,\n",
    "                            mode='lines',\n",
    "                            line=dict(color=c_mlp, width =0.02),\n",
    "                            fill='tonexty',\n",
    "                            ))\n",
    "\n",
    "    \n",
    "    fig.add_trace(go.Scatter(x=np.arange(len(data_mrbf[0])), y=mean_mrbf+std_mrbf,\n",
    "                                        mode='lines',\n",
    "                                        line=dict(color=c_mrbf,width =0.02),\n",
    "                                        ))\n",
    "    fig.add_trace(go.Scatter(x=np.arange(len(data_mrbf[0])), y=mean_mrbf,\n",
    "                            mode='lines', \n",
    "                            line=dict(color=c_mrbf, width=0.8),\n",
    "                            fill='tonexty',\n",
    "                            name='MRBF'))\n",
    "    fig.add_trace(go.Scatter(x=np.arange(len(data_mrbf[0])), y=mean_mrbf-std_mrbf,\n",
    "                            mode='lines',\n",
    "                            line=dict(color=c_mrbf, width =0.02),\n",
    "                            fill='tonexty',\n",
    "                            ))\n",
    "    \n",
    "    fig.add_trace(go.Scatter(x=np.arange(len(data_urbf[0])), y=mean_urbf+std_urbf,\n",
    "                                        mode='lines',\n",
    "                                        line=dict(color=c_urbf,width =0.02),\n",
    "                                        ))\n",
    "    fig.add_trace(go.Scatter(x=np.arange(len(data_urbf[0])), y=mean_urbf,\n",
    "                            mode='lines', \n",
    "                            line=dict(color=c_urbf, width=0.8),\n",
    "                            fill='tonexty',\n",
    "                            name='URBF'))\n",
    "    fig.add_trace(go.Scatter(x=np.arange(len(data_urbf[0])), y=mean_urbf-std_urbf,\n",
    "                            mode='lines',\n",
    "                            line=dict(color=c_urbf, width =0.02),\n",
    "                            fill='tonexty',\n",
    "                            ))\n",
    "\n",
    "\n",
    "    fig.data[0].showlegend = False\n",
    "    fig.data[2].showlegend = False\n",
    "    fig.data[3].showlegend = False\n",
    "    fig.data[5].showlegend = False\n",
    "    fig.data[6].showlegend = False\n",
    "    fig.data[8].showlegend = False\n",
    "    #fig.data[1].showlegend = False\n",
    "    #fig.data[4].showlegend = False\n",
    "    #fig.data[7].showlegend = False\n",
    "    \n",
    "    # put the legend inside the figure at the bottom right corner\n",
    "    fig.update_layout(legend=dict(\n",
    "        orientation=\"h\",\n",
    "        yanchor=\"bottom\",\n",
    "        y=0,\n",
    "        xanchor=\"right\",\n",
    "        x=1,\n",
    "    ))\n",
    "    # increase the size of the x and y axis tick labels\n",
    "    fig.update_xaxes(tickfont=dict(size=25))\n",
    "    fig.update_yaxes(tickfont=dict(size=25))\n",
    "\n",
    "    fig.update_layout(\n",
    "        margin=dict(l=0, r=0, t=0, b=0),\n",
    "        paper_bgcolor='rgba(0,0,0,0)',\n",
    "        plot_bgcolor='rgba(0,0,0,0)',\n",
    "        xaxis=dict(\n",
    "            showline=True,\n",
    "            linecolor='black',\n",
    "            linewidth=1,\n",
    "            mirror=True\n",
    "        ),\n",
    "        yaxis=dict(\n",
    "            showline=True,\n",
    "            linecolor='black',\n",
    "            linewidth=1,\n",
    "            mirror=True\n",
    "        ),\n",
    "\n",
    "    )\n",
    "    fig.update_layout(\n",
    "        #yaxis_title=\"reward\",\n",
    "        #xaxis_title=\"time step (x10^3)\",\n",
    "        font=dict(\n",
    "                family=\"Times New Roman\",\n",
    "                size=20,\n",
    "                color=\"black\"\n",
    "        )\n",
    "\n",
    "    )\n",
    "\n",
    "    # Save figure as PDF with a rectangular shape\n",
    "    width = float(210 / 25.4)  # 210mm to inches\n",
    "    height = float(297 / 25.4) / 3  # 297mm divided by 3 and converted to inches\n",
    "    pio.write_image(fig, filename, width=500, height=400)\n",
    "\n"
   ]
  },
  {
   "cell_type": "code",
   "execution_count": 9,
   "metadata": {},
   "outputs": [],
   "source": [
    "#level 1\n",
    "scores = {}\n",
    "algorithm = ['mlp', 'urbf']\n",
    "data_arr = []\n",
    "experiment_ids_mlp = [\n",
    "        \"220101\",\n",
    "]\n",
    "experiment_ids_urbf = [\n",
    "        \"1111011\",\n",
    "]\n",
    "experiment_ids_mrbf = [\n",
    "        \"4111311\",\n",
    "]\n",
    "\n",
    "results_mlp=[]\n",
    "results_urbf=[]\n",
    "results_mrbf = []\n",
    "for ids in experiment_ids_mlp:\n",
    "    for j in range(5):\n",
    "        try:\n",
    "            file = '../experiments/experiment_' + str(ids) + '/repetition_00000'+ str(j) + '/data/rollout_ep_rew_mean.npy'\n",
    "            data = np.load(file, allow_pickle=True)\n",
    "            data = data.tolist()\n",
    "            results_mlp.append(data)\n",
    "\n",
    "        except:\n",
    "            #data_arr.append(data[-1])\n",
    "            print(\"repetition not found mlp\")\n",
    "for ids in experiment_ids_urbf:\n",
    "    for j in range(5):\n",
    "        try:\n",
    "            file = '../experiments/experiment_' + str(ids) + '/repetition_00000'+ str(j) + '/data/rollout_ep_rew_mean.npy'\n",
    "            data_urbf = np.load(file, allow_pickle=True)\n",
    "            data_urbf = data_urbf.tolist()\n",
    "            results_urbf.append(data_urbf)\n",
    "\n",
    "        except:\n",
    "            #data_arr.append(data[-1])\n",
    "            print(\"repetition not found urbf\")\n",
    "\n",
    "for ids in experiment_ids_mrbf:\n",
    "    for j in range(5):\n",
    "        try:\n",
    "            file = '../experiments/experiment_' + str(ids) + '/repetition_00000'+ str(j) + '/data/rollout_ep_rew_mean.npy'\n",
    "            data_mrbf = np.load(file, allow_pickle=True)\n",
    "            data_mrbf = data_mrbf.tolist()[:2000]\n",
    "        except:\n",
    "            #data_arr.append(data[-1])\n",
    "            print(\"repetition not found\")\n",
    "        results_mrbf.append(data_mrbf)\n",
    "\n",
    "plot_mlp_urbf_mrbf(results_mlp, results_urbf, results_mrbf, 'level1_image_mrbf.pdf')\n"
   ]
  },
  {
   "cell_type": "code",
   "execution_count": 11,
   "metadata": {},
   "outputs": [],
   "source": [
    "#level 2\n",
    "scores = {}\n",
    "algorithm = ['mlp', 'urbf']\n",
    "data_arr = []\n",
    "experiment_ids_mlp = [\n",
    "        \"220102\",\n",
    "]\n",
    "experiment_ids_urbf = [\n",
    "        \"1111012\",\n",
    "]\n",
    "experiment_ids_mrbf =[\n",
    "        \"4111312\",\n",
    "]\n",
    "results_mlp=[]\n",
    "results_urbf=[]\n",
    "results_mrbf=[]\n",
    "for ids in experiment_ids_mlp:\n",
    "    for j in range(5):\n",
    "        try:\n",
    "            file = '../experiments/experiment_' + str(ids) + '/repetition_00000'+ str(j) + '/data/rollout_ep_rew_mean.npy'\n",
    "            data = np.load(file, allow_pickle=True)\n",
    "            data = data.tolist()\n",
    "            results_mlp.append(data)\n",
    "        except:\n",
    "            #data_arr.append(data[-1])\n",
    "            print(\"repetition not found mlp\")\n",
    "for ids in experiment_ids_urbf:\n",
    "    for j in range(5):\n",
    "        try:\n",
    "            file = '../experiments/experiment_' + str(ids) + '/repetition_00000'+ str(j) + '/data/rollout_ep_rew_mean.npy'\n",
    "            data_urbf = np.load(file, allow_pickle=True)\n",
    "            data_urbf = data_urbf.tolist()\n",
    "            results_urbf.append(data_urbf)\n",
    "        except:\n",
    "            #data_arr.append(data[-1])\n",
    "            print(\"repetition not found urbf\")\n",
    "\n",
    "\n",
    "for ids in experiment_ids_mrbf:\n",
    "    for j in range(5):\n",
    "        try:\n",
    "            file = '../experiments/experiment_' + str(ids) + '/repetition_00000'+ str(j) + '/data/rollout_ep_rew_mean.npy'\n",
    "            data_mrbf = np.load(file, allow_pickle=True)\n",
    "            data_mrbf = data_mrbf.tolist()[:2000]\n",
    "        except:\n",
    "            #data_arr.append(data[-1])\n",
    "            print(\"repetition not found\")\n",
    "        results_mrbf.append(data_mrbf)\n",
    "\n",
    "plot_mlp_urbf_mrbf(results_mlp, results_urbf, results_mrbf, 'level2_image_mrbf.pdf')\n"
   ]
  },
  {
   "cell_type": "code",
   "execution_count": 4,
   "metadata": {},
   "outputs": [],
   "source": [
    "#level 3\n",
    "scores = {}\n",
    "algorithm = ['mlp', 'urbf']\n",
    "data_arr = []\n",
    "experiment_ids_mlp = [\n",
    "        \"220103\",\n",
    "]\n",
    "experiment_ids_urbf = [\n",
    "        \"1111013\",\n",
    "]\n",
    "experiment_ids_mrbf = [\n",
    "        \"4111313\",\n",
    "]\n",
    "\n",
    "results_mlp=[]\n",
    "results_urbf=[]\n",
    "results_mrbf=[]\n",
    "for ids in experiment_ids_mlp:\n",
    "    for j in range(5):\n",
    "        try:\n",
    "            file = '../experiments/experiment_' + str(ids) + '/repetition_00000'+ str(j) + '/data/rollout_ep_rew_mean.npy'\n",
    "            data = np.load(file, allow_pickle=True)\n",
    "            data = data.tolist()\n",
    "        except:\n",
    "            #data_arr.append(data[-1])\n",
    "            print(\"repetition not found mlp\")\n",
    "        results_mlp.append(data)\n",
    "for ids in experiment_ids_urbf:\n",
    "    for j in range(5):\n",
    "        try:\n",
    "            file = '../experiments/experiment_' + str(ids) + '/repetition_00000'+ str(j) + '/data/rollout_ep_rew_mean.npy'\n",
    "            data_urbf = np.load(file, allow_pickle=True)\n",
    "            data_urbf = data_urbf.tolist()\n",
    "        except:\n",
    "            #data_arr.append(data[-1])\n",
    "            print(\"repetition not found urbf\")\n",
    "        results_urbf.append(data_urbf)\n",
    "        \n",
    "        \n",
    "for ids in experiment_ids_mrbf:\n",
    "    for j in range(5):\n",
    "        try:\n",
    "            file = '../experiments/experiment_' + str(ids) + '/repetition_00000'+ str(j) + '/data/rollout_ep_rew_mean.npy'\n",
    "            data_mrbf = np.load(file, allow_pickle=True)\n",
    "            data_mrbf = data_mrbf.tolist()[:2000]\n",
    "        except:\n",
    "            #data_arr.append(data[-1])\n",
    "            print(\"repetition not found\")\n",
    "        results_mrbf.append(data_mrbf)\n",
    "\n",
    "plot_mlp_urbf_mrbf(results_mlp, results_urbf, results_mrbf, 'level3_image_mrbf.pdf')\n",
    "\n"
   ]
  },
  {
   "cell_type": "markdown",
   "metadata": {
    "heading_collapsed": true
   },
   "source": [
    "# Test Accuracy"
   ]
  },
  {
   "cell_type": "code",
   "execution_count": 3,
   "metadata": {
    "code_folding": [
     0
    ],
    "hidden": true
   },
   "outputs": [
    {
     "data": {
      "application/vnd.jupyter.widget-view+json": {
       "model_id": "6cb880fbe0d34a318bf19c193ea64da9",
       "version_major": 2,
       "version_minor": 0
      },
      "text/plain": [
       "ExperimentDataPlotSelectionWidget(children=(HBox(children=(Label(value='Experiments:', layout=Layout(min_width…"
      ]
     },
     "metadata": {},
     "output_type": "display_data"
    },
    {
     "data": {
      "application/vnd.jupyter.widget-view+json": {
       "model_id": "1eda4440b3ee4d559526475dcf4eb018",
       "version_major": 2,
       "version_minor": 0
      },
      "text/plain": [
       "Output()"
      ]
     },
     "metadata": {},
     "output_type": "display_data"
    }
   ],
   "source": [
    "# Plotting of ['test_accuracy'] \n",
    "import exputils as eu\n",
    "from exputils.gui.jupyter.plotly_meanstd_scatter import plotly_meanstd_scatter\n",
    "\n",
    "plot_config = eu.AttrDict(\n",
    "layout = dict(\n",
    "    xaxis = dict(\n",
    "        title = '', \n",
    "        range = [None, None]),\n",
    "    yaxis = dict(\n",
    "        title = '', \n",
    "        range = [None, None]),\n",
    "),\n",
    "moving_average = dict(\n",
    "    n = 1\n",
    "),\n",
    "data_filter = dict(\n",
    "    every_nth_step = dict(\n",
    "        step = 1,\n",
    "        include_final_step = False\n",
    "    ),\n",
    "),        \n",
    "default_group_label = 'rep <group_idx>')\n",
    "\n",
    "selection_widget = eu.gui.jupyter.ExperimentDataPlotSelectionWidget(experiment_data_loader, datasources=['test_accuracy'], experiment_ids='all', repetition_ids='all', output_format=('S', 'E', 'D'), data_filter='', plot_function=plotly_meanstd_scatter, plot_function_config=plot_config, state_backup_name='state_backup_73729335', state_backup_variable_filter=['experiment_ids', 'repetition_ids'], is_datasources_selection=False, is_output_format_selection=False, is_data_filter_selection=False, is_plot_function_selection=False, is_plot_function_config_editor=False, is_code_producer=False)\n",
    "display(selection_widget)\n",
    "selection_widget.plot_data()"
   ]
  },
  {
   "cell_type": "markdown",
   "metadata": {},
   "source": [
    "# Final Test Accuracy"
   ]
  },
  {
   "cell_type": "code",
   "execution_count": 4,
   "metadata": {
    "code_folding": [
     0
    ]
   },
   "outputs": [
    {
     "data": {
      "application/vnd.jupyter.widget-view+json": {
       "model_id": "66ab6859a0ba4bcfb33c1cc170cf170f",
       "version_major": 2,
       "version_minor": 0
      },
      "text/plain": [
       "ExperimentDataPlotSelectionWidget(children=(HBox(children=(Label(value='Experiments:', layout=Layout(min_width…"
      ]
     },
     "metadata": {},
     "output_type": "display_data"
    },
    {
     "data": {
      "application/vnd.jupyter.widget-view+json": {
       "model_id": "884b07a8e8714fe3b17e167d56b76bb4",
       "version_major": 2,
       "version_minor": 0
      },
      "text/plain": [
       "Output()"
      ]
     },
     "metadata": {},
     "output_type": "display_data"
    }
   ],
   "source": [
    "# Plotting of ['test_accuracy[-1]'] \n",
    "import exputils as eu\n",
    "from exputils.gui.jupyter.plotly_box import plotly_box\n",
    "\n",
    "plot_config = eu.AttrDict(\n",
    "layout = dict(\n",
    "    xaxis = dict(\n",
    "        title = '', \n",
    "        range = [None, None] \n",
    "        ),\n",
    "    yaxis = dict(\n",
    "        title = '', \n",
    "        range = [None, None] \n",
    "        )\n",
    "    ))\n",
    "\n",
    "selection_widget = eu.gui.jupyter.ExperimentDataPlotSelectionWidget(experiment_data_loader, datasources=['test_accuracy[-1]'], experiment_ids='all', repetition_ids='all', output_format=('S', 'E', 'D'), data_filter='', plot_function=plotly_box, plot_function_config=plot_config, state_backup_name='state_backup_73729397', state_backup_variable_filter=['experiment_ids', 'repetition_ids'], is_datasources_selection=False, is_output_format_selection=False, is_data_filter_selection=False, is_plot_function_selection=False, is_plot_function_config_editor=False, is_code_producer=False)\n",
    "display(selection_widget)\n",
    "selection_widget.plot_data()"
   ]
  },
  {
   "cell_type": "code",
   "execution_count": 5,
   "metadata": {
    "code_folding": [
     0
    ]
   },
   "outputs": [
    {
     "data": {
      "application/vnd.jupyter.widget-view+json": {
       "model_id": "37a43ff71a074d2498f15a7a4b87911e",
       "version_major": 2,
       "version_minor": 0
      },
      "text/plain": [
       "ExperimentDataPlotSelectionWidget(children=(HBox(children=(Label(value='Experiments:', layout=Layout(min_width…"
      ]
     },
     "metadata": {},
     "output_type": "display_data"
    },
    {
     "data": {
      "application/vnd.jupyter.widget-view+json": {
       "model_id": "1bb12fe25d864bf9bcdb6a9169ac49b3",
       "version_major": 2,
       "version_minor": 0
      },
      "text/plain": [
       "Output()"
      ]
     },
     "metadata": {},
     "output_type": "display_data"
    }
   ],
   "source": [
    "# Plotting of ['test_accuracy[-1]'] \n",
    "import exputils as eu\n",
    "from exputils.gui.jupyter.tabulate_pairwise import tabulate_pairwise\n",
    "\n",
    "plot_config = eu.AttrDict(\n",
    "pairwise_function = eu.misc.mannwhitneyu_pvalue,\n",
    "pairwise_mode = 'upper_triangle', # which pairs are compared? 'full', 'full_not_identity', 'upper_triangle', 'upper_triangle_not_identity', 'lower_triangle', 'lower_triangle_not_identity'\n",
    "tabulate=eu.AttrDict(\n",
    "            tablefmt='html', # 'html' or 'latex'\n",
    "            numalign='right',\n",
    "        ),\n",
    "cell_format = '{}',\n",
    "top_left_cell_content = 'p-value',\n",
    "labels=[])\n",
    "\n",
    "selection_widget = eu.gui.jupyter.ExperimentDataPlotSelectionWidget(experiment_data_loader, datasources=['test_accuracy[-1]'], experiment_ids='all', repetition_ids='all', output_format=('S', 'E', 'D'), data_filter='', plot_function=tabulate_pairwise, plot_function_config=plot_config, state_backup_name='state_backup_73729444', state_backup_variable_filter=['experiment_ids', 'repetition_ids'], is_datasources_selection=False, is_output_format_selection=False, is_data_filter_selection=False, is_plot_function_selection=False, is_plot_function_config_editor=False, is_code_producer=False)\n",
    "display(selection_widget)\n",
    "selection_widget.plot_data()"
   ]
  }
 ],
 "metadata": {
  "kernelspec": {
   "display_name": "Python 3 (ipykernel)",
   "language": "python",
   "name": "python3"
  },
  "language_info": {
   "codemirror_mode": {
    "name": "ipython",
    "version": 3
   },
   "file_extension": ".py",
   "mimetype": "text/x-python",
   "name": "python",
   "nbconvert_exporter": "python",
   "pygments_lexer": "ipython3",
   "version": "3.8.13"
  }
 },
 "nbformat": 4,
 "nbformat_minor": 4
}
