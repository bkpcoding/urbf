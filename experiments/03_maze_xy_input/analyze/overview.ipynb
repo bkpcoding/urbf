{
 "cells": [
  {
   "cell_type": "code",
   "execution_count": 1,
   "metadata": {
    "code_folding": [],
    "scrolled": false
   },
   "outputs": [
    {
     "data": {
      "application/vnd.jupyter.widget-view+json": {
       "model_id": "c4d489863a52464ea65b943870a969bb",
       "version_major": 2,
       "version_minor": 0
      },
      "text/plain": [
       "ExperimentDataLoaderWidget(children=(Box(children=(Button(description='Update Descriptions', layout=Layout(hei…"
      ]
     },
     "metadata": {},
     "output_type": "display_data"
    },
    {
     "data": {
      "application/vnd.jupyter.widget-view+json": {
       "model_id": "1cd8e97aff384cac971636009c76b752",
       "version_major": 2,
       "version_minor": 0
      },
      "text/plain": [
       "Output()"
      ]
     },
     "metadata": {},
     "output_type": "display_data"
    }
   ],
   "source": [
    "# import the experiment utilities package\n",
    "import exputils as eu\n",
    "import numpy as np\n",
    "\n",
    "# create an experiment data loader, by default it will load data from '../experiments'\n",
    "experiment_data_loader = eu.gui.jupyter.ExperimentDataLoaderWidget()\n",
    "display(experiment_data_loader)"
   ]
  },
  {
   "cell_type": "code",
   "execution_count": 2,
   "metadata": {
    "code_folding": [
     0
    ],
    "scrolled": false
   },
   "outputs": [
    {
     "name": "stderr",
     "output_type": "stream",
     "text": [
      "/home/sagar/anaconda3/envs/rbf/lib/python3.8/site-packages/ipywidgets/widgets/widget.py:412: DeprecationWarning: Passing unrecognized arguments to super(CodeProducerWidget).__init__(cildren=[]).\n",
      "object.__init__() takes exactly one argument (the instance to initialize)\n",
      "This is deprecated in traitlets 4.2.This error will be raised in a future release of traitlets.\n",
      "  super(Widget, self).__init__(**kwargs)\n",
      "/media/sagar/73f6012e-728a-4e72-b99f-136fd5461f32/media/sagar/inria/code/exputils/exputils/gui/jupyter/experiment_ids_selection_widget.py:99: UserWarning: Experiment id '023353' does not exists in list of experiment ID's. Setting will be ignored.\n",
      "  warnings.warn('Experiment id {!r} does not exists in list of experiment ID\\'s. Setting will be ignored.'.format(exp_id))\n",
      "/media/sagar/73f6012e-728a-4e72-b99f-136fd5461f32/media/sagar/inria/code/exputils/exputils/gui/jupyter/experiment_ids_selection_widget.py:99: UserWarning: Experiment id '113113' does not exists in list of experiment ID's. Setting will be ignored.\n",
      "  warnings.warn('Experiment id {!r} does not exists in list of experiment ID\\'s. Setting will be ignored.'.format(exp_id))\n",
      "/media/sagar/73f6012e-728a-4e72-b99f-136fd5461f32/media/sagar/inria/code/exputils/exputils/gui/jupyter/experiment_ids_selection_widget.py:99: UserWarning: Experiment id '313113' does not exists in list of experiment ID's. Setting will be ignored.\n",
      "  warnings.warn('Experiment id {!r} does not exists in list of experiment ID\\'s. Setting will be ignored.'.format(exp_id))\n",
      "/media/sagar/73f6012e-728a-4e72-b99f-136fd5461f32/media/sagar/inria/code/exputils/exputils/gui/jupyter/experiment_ids_selection_widget.py:99: UserWarning: Experiment id '313123' does not exists in list of experiment ID's. Setting will be ignored.\n",
      "  warnings.warn('Experiment id {!r} does not exists in list of experiment ID\\'s. Setting will be ignored.'.format(exp_id))\n",
      "/media/sagar/73f6012e-728a-4e72-b99f-136fd5461f32/media/sagar/inria/code/exputils/exputils/gui/jupyter/experiment_ids_selection_widget.py:99: UserWarning: Experiment id '313133' does not exists in list of experiment ID's. Setting will be ignored.\n",
      "  warnings.warn('Experiment id {!r} does not exists in list of experiment ID\\'s. Setting will be ignored.'.format(exp_id))\n"
     ]
    },
    {
     "data": {
      "application/vnd.jupyter.widget-view+json": {
       "model_id": "18ce28eab9144f8b8282c7e9b5b1ffda",
       "version_major": 2,
       "version_minor": 0
      },
      "text/plain": [
       "ExperimentDataPlotSelectionWidget(children=(HBox(children=(Label(value='Data Sources:', layout=Layout(min_widt…"
      ]
     },
     "metadata": {},
     "output_type": "display_data"
    },
    {
     "data": {
      "application/vnd.jupyter.widget-view+json": {
       "model_id": "962d1ffb1ccd486dbfe2b9cc28e98170",
       "version_major": 2,
       "version_minor": 0
      },
      "text/plain": [
       "Output()"
      ]
     },
     "metadata": {},
     "output_type": "display_data"
    }
   ],
   "source": [
    "# experiment data selection plotter that takes as input the data loader to plot its loaded data\n",
    "experiment_data_plotter = eu.gui.jupyter.ExperimentDataPlotSelectionWidget(experiment_data_loader)\n",
    "display(experiment_data_plotter)"
   ]
  },
  {
   "cell_type": "code",
   "execution_count": 50,
   "metadata": {},
   "outputs": [
    {
     "name": "stdout",
     "output_type": "stream",
     "text": [
      "Collecting kaleido\n",
      "  Using cached kaleido-0.2.1-py2.py3-none-manylinux1_x86_64.whl (79.9 MB)\n",
      "Installing collected packages: kaleido\n",
      "Successfully installed kaleido-0.2.1\n"
     ]
    }
   ],
   "source": [
    "!pip install -U kaleido"
   ]
  },
  {
   "cell_type": "code",
   "execution_count": 32,
   "metadata": {},
   "outputs": [],
   "source": [
    "import matplotlib\n",
    "import random\n",
    "import plotly.graph_objects as go\n",
    "import numpy as np\n",
    "import plotly.io as pio\n",
    "\n",
    "def plot_mlp_urbf(data_mlp, data_urbf, filename):\n",
    "    #random color generation in plotly\n",
    "    hex_colors_dic = {}\n",
    "    rgb_colors_dic = {}\n",
    "    hex_colors_only = []\n",
    "    for name, hex in matplotlib.colors.cnames.items():\n",
    "        hex_colors_only.append(hex)\n",
    "        hex_colors_dic[name] = hex\n",
    "        rgb_colors_dic[name] = matplotlib.colors.to_rgb(hex)\n",
    "\n",
    "\n",
    "    #calculating mean and standard deviation\n",
    "    mean_mlp=np.mean(data_mlp,axis=0)\n",
    "    std_mlp=np.std(data_mlp,axis=0)\n",
    "\n",
    "    mean_urbf=np.mean(data_urbf,axis=0)\n",
    "    std_urbf=np.std(data_urbf,axis=0)\n",
    "\n",
    "    #draw figure\n",
    "    fig = go.Figure()\n",
    "    c_mlp = '#205380'\n",
    "    c_urbf = '#f08d4f'\n",
    "    fig.add_trace(go.Scatter(x=np.arange(len(data_mlp[0])), y=mean_mlp+std_mlp,\n",
    "                                        mode='lines',\n",
    "                                        line=dict(color=c_mlp,width =0.05),\n",
    "                                        ))\n",
    "    fig.add_trace(go.Scatter(x=np.arange(len(data_mlp[0])), y=mean_mlp,\n",
    "                            mode='lines',\n",
    "                            line=dict(color=c_mlp),\n",
    "                            fill='tonexty',\n",
    "                            name='MLP'))\n",
    "    fig.add_trace(go.Scatter(x=np.arange(len(data_mlp[0])), y=mean_mlp-std_mlp,\n",
    "                            mode='lines',\n",
    "                            line=dict(color=c_mlp, width =0.05),\n",
    "                            fill='tonexty',\n",
    "                            ))\n",
    "\n",
    "    fig.add_trace(go.Scatter(x=np.arange(len(data_urbf[0])), y=mean_urbf+std_urbf,\n",
    "                                        mode='lines',\n",
    "                                        line=dict(color=c_urbf,width =0.05),\n",
    "                                        ))\n",
    "    fig.add_trace(go.Scatter(x=np.arange(len(data_urbf[0])), y=mean_urbf,\n",
    "                            mode='lines', \n",
    "                            line=dict(color=c_urbf),\n",
    "                            fill='tonexty',\n",
    "                            name='URBF'))\n",
    "    fig.add_trace(go.Scatter(x=np.arange(len(data_urbf[0])), y=mean_urbf-std_urbf,\n",
    "                            mode='lines',\n",
    "                            line=dict(color=c_urbf, width =0.05),\n",
    "                            fill='tonexty',\n",
    "                            ))\n",
    "    fig.data[0].showlegend = False\n",
    "    fig.data[2].showlegend = False\n",
    "    fig.data[3].showlegend = False\n",
    "    fig.data[5].showlegend = False\n",
    "    fig.update_layout(\n",
    "        margin=dict(l=0, r=0, t=0, b=0),\n",
    "        paper_bgcolor='rgba(0,0,0,0)',\n",
    "        plot_bgcolor='rgba(0,0,0,0)',\n",
    "        xaxis=dict(\n",
    "            showline=True,\n",
    "            linecolor='black',\n",
    "            linewidth=1,\n",
    "            mirror=True\n",
    "        ),\n",
    "        yaxis=dict(\n",
    "            showline=True,\n",
    "            linecolor='black',\n",
    "            linewidth=1,\n",
    "            mirror=True\n",
    "        ),\n",
    "\n",
    "    )\n",
    "    fig.update_layout(\n",
    "        yaxis_title=\"reward\",\n",
    "        xaxis_title=\"time step (x10^3)\",\n",
    "    )\n",
    "\n",
    "    # Save figure as PDF with a rectangular shape\n",
    "    width = float(210 / 25.4)  # 210mm to inches\n",
    "    height = float(297 / 25.4) / 3  # 297mm divided by 3 and converted to inches\n",
    "    pio.write_image(fig, filename, width=500, height=300)\n",
    "\n"
   ]
  },
  {
   "cell_type": "code",
   "execution_count": 6,
   "metadata": {},
   "outputs": [],
   "source": [
    "import matplotlib\n",
    "import random\n",
    "import plotly.graph_objects as go\n",
    "import numpy as np\n",
    "import plotly.io as pio\n",
    "\n",
    "def plot_mlp_urbf_mrbf(data_mlp, data_urbf, data_mrbf, filename):\n",
    "    #random color generation in plotly\n",
    "    hex_colors_dic = {}\n",
    "    rgb_colors_dic = {}\n",
    "    hex_colors_only = []\n",
    "    for name, hex in matplotlib.colors.cnames.items():\n",
    "        hex_colors_only.append(hex)\n",
    "        hex_colors_dic[name] = hex\n",
    "        rgb_colors_dic[name] = matplotlib.colors.to_rgb(hex)\n",
    "\n",
    "\n",
    "    #calculating mean and standard deviation\n",
    "    mean_mlp=np.mean(data_mlp,axis=0)\n",
    "    std_mlp=np.std(data_mlp,axis=0)\n",
    "\n",
    "    mean_urbf=np.mean(data_urbf,axis=0)\n",
    "    std_urbf=np.std(data_urbf,axis=0)\n",
    "    \n",
    "    mean_mrbf=np.mean(data_mrbf,axis=0)\n",
    "    std_mrbf=np.std(data_mrbf,axis=0)\n",
    "\n",
    "\n",
    "    #draw figure\n",
    "    fig = go.Figure()\n",
    "    c_mlp = '#205380'\n",
    "    c_urbf = '#f08d4f'\n",
    "    c_mrbf = '#669900'\n",
    "    fig.add_trace(go.Scatter(x=np.arange(len(data_mlp[0])), y=mean_mlp+std_mlp,\n",
    "                                        mode='lines',\n",
    "                                        line=dict(color=c_mlp,width =0.02),\n",
    "                                        ))\n",
    "    fig.add_trace(go.Scatter(x=np.arange(len(data_mlp[0])), y=mean_mlp,\n",
    "                            mode='lines',\n",
    "                            line=dict(color=c_mlp, width=0.8),\n",
    "                            fill='tonexty',\n",
    "                            name='MLP'))\n",
    "    fig.add_trace(go.Scatter(x=np.arange(len(data_mlp[0])), y=mean_mlp-std_mlp,\n",
    "                            mode='lines',\n",
    "                            line=dict(color=c_mlp, width =0.02),\n",
    "                            fill='tonexty',\n",
    "                            ))\n",
    "\n",
    "    fig.add_trace(go.Scatter(x=np.arange(len(data_urbf[0])), y=mean_urbf+std_urbf,\n",
    "                                        mode='lines',\n",
    "                                        line=dict(color=c_urbf,width =0.02),\n",
    "                                        ))\n",
    "    fig.add_trace(go.Scatter(x=np.arange(len(data_urbf[0])), y=mean_urbf,\n",
    "                            mode='lines', \n",
    "                            line=dict(color=c_urbf, width=0.8),\n",
    "                            fill='tonexty',\n",
    "                            name='URBF'))\n",
    "    fig.add_trace(go.Scatter(x=np.arange(len(data_urbf[0])), y=mean_urbf-std_urbf,\n",
    "                            mode='lines',\n",
    "                            line=dict(color=c_urbf, width =0.02),\n",
    "                            fill='tonexty',\n",
    "                            ))\n",
    "    \n",
    "    fig.add_trace(go.Scatter(x=np.arange(len(data_mrbf[0])), y=mean_mrbf+std_mrbf,\n",
    "                                        mode='lines',\n",
    "                                        line=dict(color=c_mrbf,width =0.02),\n",
    "                                        ))\n",
    "    fig.add_trace(go.Scatter(x=np.arange(len(data_mrbf[0])), y=mean_mrbf,\n",
    "                            mode='lines', \n",
    "                            line=dict(color=c_mrbf, width=0.8),\n",
    "                            fill='tonexty',\n",
    "                            name='MRBF'))\n",
    "    fig.add_trace(go.Scatter(x=np.arange(len(data_mrbf[0])), y=mean_mrbf-std_mrbf,\n",
    "                            mode='lines',\n",
    "                            line=dict(color=c_mrbf, width =0.02),\n",
    "                            fill='tonexty',\n",
    "                            ))\n",
    "\n",
    "    fig.data[0].showlegend = False\n",
    "    fig.data[2].showlegend = False\n",
    "    fig.data[3].showlegend = False\n",
    "    fig.data[5].showlegend = False\n",
    "    fig.data[6].showlegend = False\n",
    "    fig.data[8].showlegend = False\n",
    "    fig.data[1].showlegend = False\n",
    "    fig.data[4].showlegend = False\n",
    "    fig.data[7].showlegend = False\n",
    "    fig.update_xaxes(tickfont=dict(size=25))\n",
    "    fig.update_yaxes(tickfont=dict(size=25))\n",
    "\n",
    "\n",
    "    fig.update_layout(\n",
    "        margin=dict(l=0, r=0, t=0, b=0),\n",
    "        paper_bgcolor='rgba(0,0,0,0)',\n",
    "        plot_bgcolor='rgba(0,0,0,0)',\n",
    "        xaxis=dict(\n",
    "            showline=True,\n",
    "            linecolor='black',\n",
    "            linewidth=1,\n",
    "            mirror=True\n",
    "        ),\n",
    "        yaxis=dict(\n",
    "            showline=True,\n",
    "            linecolor='black',\n",
    "            linewidth=1,\n",
    "            mirror=True\n",
    "        ),\n",
    "\n",
    "    )\n",
    "    fig.update_layout(\n",
    "        #yaxis_title=\"reward\",\n",
    "        #xaxis_title=\"time step (x10^3)\",\n",
    "        font=dict(\n",
    "                family=\"Times New Roman\",\n",
    "                size=20,\n",
    "                color=\"black\"\n",
    "        )\n",
    "\n",
    "    )\n",
    "\n",
    "    # Save figure as PDF with a rectangular shape\n",
    "    width = float(210 / 25.4)  # 210mm to inches\n",
    "    height = float(297 / 25.4) / 3  # 297mm divided by 3 and converted to inches\n",
    "    pio.write_image(fig, filename, width=500, height=400)\n",
    "\n"
   ]
  },
  {
   "cell_type": "code",
   "execution_count": 61,
   "metadata": {},
   "outputs": [
    {
     "name": "stdout",
     "output_type": "stream",
     "text": [
      "10 5000\n"
     ]
    }
   ],
   "source": [
    "#level 1\n",
    "scores = {}\n",
    "algorithm = ['mlp', 'urbf', 'mrbf']\n",
    "data_arr = []\n",
    "experiment_ids_mlp = [\n",
    "        \"023371\",\n",
    "]\n",
    "experiment_ids_urbf = [\n",
    "        \"111121\",\n",
    "]\n",
    "experiment_ids_mrbf = [\n",
    "        \"311121\",\n",
    "]\n",
    "results_mlp=[]\n",
    "results_urbf=[]\n",
    "results_mrbf=[]\n",
    "\n",
    "for ids in experiment_ids_mlp:\n",
    "    for j in range(10):\n",
    "        try:\n",
    "            file = '../experiments/experiment_' + str(ids) + '/repetition_00000'+ str(j) + '/data/rollout_ep_rew_mean.npy'\n",
    "            data = np.load(file, allow_pickle=True)\n",
    "            data = data.tolist()\n",
    "        except:\n",
    "            #data_arr.append(data[-1])\n",
    "            print(\"repetition not found\")\n",
    "        results_mlp.append(data)\n",
    "for ids in experiment_ids_urbf:\n",
    "    for j in range(10):\n",
    "        try:\n",
    "            file = '../experiments/experiment_' + str(ids) + '/repetition_00000'+ str(j) + '/data/rollout_ep_rew_mean.npy'\n",
    "            data_urbf = np.load(file, allow_pickle=True)\n",
    "            data_urbf = data_urbf.tolist()\n",
    "        except:\n",
    "            #data_arr.append(data[-1])\n",
    "            print(\"repetition not found\")\n",
    "        results_urbf.append(data_urbf)\n",
    "        \n",
    "for ids in experiment_ids_mrbf:\n",
    "    for j in range(10):\n",
    "        try:\n",
    "            file = '../experiments/experiment_' + str(ids) + '/repetition_00000'+ str(j) + '/data/rollout_ep_rew_mean.npy'\n",
    "            data_mrbf = np.load(file, allow_pickle=True)\n",
    "            data_mrbf = data_mrbf.tolist()\n",
    "        except:\n",
    "            #data_arr.append(data[-1])\n",
    "            print(\"repetition not found\")\n",
    "        results_mrbf.append(data_mrbf)\n",
    "\n",
    "print(len(results_mlp), len(results_mlp[0]))\n",
    "plot_mlp_urbf_mrbf(results_mlp, results_urbf, results_mrbf, 'level1_cord_mrbf.pdf')\n"
   ]
  },
  {
   "cell_type": "code",
   "execution_count": 62,
   "metadata": {},
   "outputs": [
    {
     "name": "stdout",
     "output_type": "stream",
     "text": [
      "10 5000\n"
     ]
    }
   ],
   "source": [
    "#level 2\n",
    "scores = {}\n",
    "algorithm = ['mlp', 'urbf', 'mrbf']\n",
    "data_arr = []\n",
    "experiment_ids_mlp = [\n",
    "        \"020352\",\n",
    "]\n",
    "experiment_ids_urbf = [\n",
    "        \"111112\",\n",
    "]\n",
    "experiment_ids_mrbf = [\n",
    "        \"311122\",\n",
    "]\n",
    "results_mlp=[]\n",
    "results_urbf=[]\n",
    "results_mrbf=[]\n",
    "\n",
    "for ids in experiment_ids_mlp:\n",
    "    for j in range(10):\n",
    "        try:\n",
    "            file = '../experiments/experiment_' + str(ids) + '/repetition_00000'+ str(j) + '/data/rollout_ep_rew_mean.npy'\n",
    "            data = np.load(file, allow_pickle=True)\n",
    "            data = data.tolist()\n",
    "        except:\n",
    "            #data_arr.append(data[-1])\n",
    "            print(\"repetition not found\")\n",
    "        results_mlp.append(data)\n",
    "for ids in experiment_ids_urbf:\n",
    "    for j in range(10):\n",
    "        try:\n",
    "            file = '../experiments/experiment_' + str(ids) + '/repetition_00000'+ str(j) + '/data/rollout_ep_rew_mean.npy'\n",
    "            data_urbf = np.load(file, allow_pickle=True)\n",
    "            data_urbf = data_urbf.tolist()\n",
    "        except:\n",
    "            #data_arr.append(data[-1])\n",
    "            print(\"repetition not found\")\n",
    "        results_urbf.append(data_urbf)\n",
    "        \n",
    "for ids in experiment_ids_mrbf:\n",
    "    for j in range(10):\n",
    "        try:\n",
    "            file = '../experiments/experiment_' + str(ids) + '/repetition_00000'+ str(j) + '/data/rollout_ep_rew_mean.npy'\n",
    "            data_mrbf = np.load(file, allow_pickle=True)\n",
    "            data_mrbf = data_mrbf.tolist()\n",
    "        except:\n",
    "            #data_arr.append(data[-1])\n",
    "            print(\"repetition not found\")\n",
    "        results_mrbf.append(data_mrbf)\n",
    "\n",
    "print(len(results_mlp), len(results_mlp[0]))\n",
    "plot_mlp_urbf_mrbf(results_mlp, results_urbf, results_mrbf, 'level2_cord_mrbf.pdf')\n"
   ]
  },
  {
   "cell_type": "code",
   "execution_count": 7,
   "metadata": {},
   "outputs": [
    {
     "name": "stdout",
     "output_type": "stream",
     "text": [
      "10 5000\n"
     ]
    }
   ],
   "source": [
    "\n",
    "#level 3\n",
    "scores = {}\n",
    "algorithm = ['mlp', 'urbf', 'mrbf']\n",
    "data_arr = []\n",
    "experiment_ids_mlp = [\n",
    "        \"023353\",\n",
    "]\n",
    "experiment_ids_urbf = [\n",
    "        \"113113\",\n",
    "]\n",
    "experiment_ids_mrbf = [\n",
    "        \"313123\",\n",
    "]\n",
    "results_mlp=[]\n",
    "results_urbf=[]\n",
    "results_mrbf=[]\n",
    "\n",
    "for ids in experiment_ids_mlp:\n",
    "    for j in range(10):\n",
    "        try:\n",
    "            file = '../experiments/experiment_' + str(ids) + '/repetition_00000'+ str(j) + '/data/rollout_ep_rew_mean.npy'\n",
    "            data = np.load(file, allow_pickle=True)\n",
    "            data = data.tolist()\n",
    "        except:\n",
    "            #data_arr.append(data[-1])\n",
    "            print(\"repetition not found in MLP\")\n",
    "        results_mlp.append(data)\n",
    "for ids in experiment_ids_urbf:\n",
    "    for j in range(10):\n",
    "        try:\n",
    "            file = '../experiments/experiment_' + str(ids) + '/repetition_00000'+ str(j) + '/data/rollout_ep_rew_mean.npy'\n",
    "            data_urbf = np.load(file, allow_pickle=True)\n",
    "            data_urbf = data_urbf.tolist()\n",
    "        except:\n",
    "            #data_arr.append(data[-1])\n",
    "            print(\"repetition not found in URBF\")\n",
    "        results_urbf.append(data_urbf)\n",
    "        \n",
    "for ids in experiment_ids_mrbf:\n",
    "    for j in range(10):\n",
    "        try:\n",
    "            file = '../experiments/experiment_' + str(ids) + '/repetition_00000'+ str(j) + '/data/rollout_ep_rew_mean.npy'\n",
    "            data_mrbf = np.load(file, allow_pickle=True)\n",
    "            data_mrbf = data_mrbf.tolist()\n",
    "        except:\n",
    "            #data_arr.append(data[-1])\n",
    "            print(\"repetition not found in MRBF\")\n",
    "        results_mrbf.append(data_mrbf)\n",
    "\n",
    "print(len(results_mlp), len(results_mlp[0]))\n",
    "plot_mlp_urbf_mrbf(results_mlp, results_urbf, results_mrbf, 'level3_cord_mrbf.pdf')\n"
   ]
  },
  {
   "cell_type": "code",
   "execution_count": 5,
   "metadata": {},
   "outputs": [
    {
     "name": "stderr",
     "output_type": "stream",
     "text": [
      "/media/sagar/73f6012e-728a-4e72-b99f-136fd5461f322/home/sagar/inria/code/exputils/exputils/gui/jupyter/experiment_ids_selection_widget.py:99: UserWarning:\n",
      "\n",
      "Experiment id '023371' does not exists in list of experiment ID's. Setting will be ignored.\n",
      "\n",
      "/media/sagar/73f6012e-728a-4e72-b99f-136fd5461f322/home/sagar/inria/code/exputils/exputils/gui/jupyter/experiment_ids_selection_widget.py:99: UserWarning:\n",
      "\n",
      "Experiment id '111121' does not exists in list of experiment ID's. Setting will be ignored.\n",
      "\n"
     ]
    },
    {
     "data": {
      "application/vnd.jupyter.widget-view+json": {
       "model_id": "d86f92381ce74493b6c98bdea04672cc",
       "version_major": 2,
       "version_minor": 0
      },
      "text/plain": [
       "ExperimentDataPlotSelectionWidget(children=(HBox(children=(Label(value='Experiments:', layout=Layout(min_width…"
      ]
     },
     "metadata": {},
     "output_type": "display_data"
    },
    {
     "data": {
      "application/vnd.jupyter.widget-view+json": {
       "model_id": "308c2a4d916344bca220995e8a4e7ddf",
       "version_major": 2,
       "version_minor": 0
      },
      "text/plain": [
       "Output()"
      ]
     },
     "metadata": {},
     "output_type": "display_data"
    }
   ],
   "source": [
    "# Plotting of ['rollout_ep_rew_mean'] \n",
    "import exputils as eu\n",
    "from exputils.gui.jupyter.plotly_meanstd_scatter import plotly_meanstd_scatter\n",
    "\n",
    "plot_config = eu.AttrDict(\n",
    "layout = dict(\n",
    "    xaxis = dict(\n",
    "        title = 'Timesteps (x 10^3)', \n",
    "        range = [None, None]),\n",
    "    yaxis = dict(\n",
    "        title = 'Reward', \n",
    "        range = [None, None]),\n",
    "),\n",
    "moving_average = dict(\n",
    "    n = 1\n",
    "),\n",
    "data_filter = dict(\n",
    "    every_nth_step = dict(\n",
    "        step = 1,\n",
    "        include_final_step = False\n",
    "    ),\n",
    "),        \n",
    "default_group_label = 'rep <group_idx>')\n",
    "\n",
    "selection_widget = eu.gui.jupyter.ExperimentDataPlotSelectionWidget(\n",
    "    experiment_data_loader,\n",
    "    datasources=['rollout_ep_rew_mean'],\n",
    "    experiment_ids='all',\n",
    "    repetition_ids='all',\n",
    "    output_format=('S', 'E', 'D'),\n",
    "    data_filter='',\n",
    "    plot_function=plotly_meanstd_scatter,\n",
    "    plot_function_config=plot_config,\n",
    "    state_backup_name='state_backup_97333237',\n",
    "    state_backup_variable_filter=['experiment_ids', 'repetition_ids'],  # only save these variables as backup\n",
    "    is_datasources_selection=False,\n",
    "    is_output_format_selection=False,\n",
    "    is_data_filter_selection=False,\n",
    "    is_plot_function_selection=False,\n",
    "    is_plot_function_config_editor=False,\n",
    "    is_code_producer=False) \n",
    "display(selection_widget)\n",
    "selection_widget.plot_data()"
   ]
  },
  {
   "cell_type": "code",
   "execution_count": 3,
   "metadata": {},
   "outputs": [
    {
     "data": {
      "application/vnd.jupyter.widget-view+json": {
       "model_id": "48738accdf1f4bc48522d580dca5eeaf",
       "version_major": 2,
       "version_minor": 0
      },
      "text/plain": [
       "ExperimentDataPlotSelectionWidget(children=(HBox(children=(Label(value='Experiments:', layout=Layout(min_width…"
      ]
     },
     "metadata": {},
     "output_type": "display_data"
    },
    {
     "data": {
      "application/vnd.jupyter.widget-view+json": {
       "model_id": "2d30f4c915f94402817a219d279b0e8d",
       "version_major": 2,
       "version_minor": 0
      },
      "text/plain": [
       "Output()"
      ]
     },
     "metadata": {},
     "output_type": "display_data"
    }
   ],
   "source": [
    "# Plotting of ['reward_per_timestep'] \n",
    "import exputils as eu\n",
    "from exputils.gui.jupyter.plotly_meanstd_scatter import plotly_meanstd_scatter\n",
    "\n",
    "plot_config = eu.AttrDict(\n",
    "layout = dict(\n",
    "    xaxis = dict(\n",
    "        title = 'Timesteps (x 10^3)', \n",
    "        range = [None, None]),\n",
    "    yaxis = dict(\n",
    "        title = 'Reward', \n",
    "        range = [None, None]),\n",
    "),\n",
    "moving_average = dict(\n",
    "    n = 1\n",
    "),\n",
    "data_filter = dict(\n",
    "    every_nth_step = dict(\n",
    "        step = 1,\n",
    "        include_final_step = False\n",
    "    ),\n",
    "),        \n",
    "default_group_label = 'rep <group_idx>')\n",
    "\n",
    "selection_widget = eu.gui.jupyter.ExperimentDataPlotSelectionWidget(\n",
    "    experiment_data_loader,\n",
    "    datasources=['reward_per_timestep'],\n",
    "    experiment_ids='all',\n",
    "    repetition_ids='all',\n",
    "    output_format=('S', 'E', 'D'),\n",
    "    data_filter='',\n",
    "    plot_function=plotly_meanstd_scatter,\n",
    "    plot_function_config=plot_config,\n",
    "    state_backup_name='state_backup_89044326',\n",
    "    state_backup_variable_filter=['experiment_ids', 'repetition_ids'],  # only save these variables as backup\n",
    "    is_datasources_selection=False,\n",
    "    is_output_format_selection=False,\n",
    "    is_data_filter_selection=False,\n",
    "    is_plot_function_selection=False,\n",
    "    is_plot_function_config_editor=False,\n",
    "    is_code_producer=False) \n",
    "display(selection_widget)\n",
    "selection_widget.plot_data()"
   ]
  },
  {
   "cell_type": "code",
   "execution_count": 4,
   "metadata": {},
   "outputs": [
    {
     "data": {
      "application/vnd.jupyter.widget-view+json": {
       "model_id": "efc5ca52a99d4eed82284eaa02601430",
       "version_major": 2,
       "version_minor": 0
      },
      "text/plain": [
       "ExperimentDataPlotSelectionWidget(children=(HBox(children=(Label(value='Experiments:', layout=Layout(min_width…"
      ]
     },
     "metadata": {},
     "output_type": "display_data"
    },
    {
     "data": {
      "application/vnd.jupyter.widget-view+json": {
       "model_id": "4344739ed59f4053b56c1d9e3ed59e1e",
       "version_major": 2,
       "version_minor": 0
      },
      "text/plain": [
       "Output()"
      ]
     },
     "metadata": {},
     "output_type": "display_data"
    }
   ],
   "source": [
    "# Plotting of ['rollout_ep_rew_mean'] \n",
    "import exputils as eu\n",
    "from exputils.gui.jupyter.plotly_meanstd_scatter import plotly_meanstd_scatter\n",
    "\n",
    "plot_config = eu.AttrDict(\n",
    "layout = dict(\n",
    "    xaxis = dict(\n",
    "        title = 'Timesteps (x 10^3)', \n",
    "        range = [None, None]),\n",
    "    yaxis = dict(\n",
    "        title = 'Reward', \n",
    "        range = [None, None]),\n",
    "),\n",
    "moving_average = dict(\n",
    "    n = 1\n",
    "),\n",
    "data_filter = dict(\n",
    "    every_nth_step = dict(\n",
    "        step = 1,\n",
    "        include_final_step = False\n",
    "    ),\n",
    "),        \n",
    "default_group_label = 'rep <group_idx>')\n",
    "\n",
    "selection_widget = eu.gui.jupyter.ExperimentDataPlotSelectionWidget(\n",
    "    experiment_data_loader,\n",
    "    datasources=['rollout_ep_rew_mean'],\n",
    "    experiment_ids='all',\n",
    "    repetition_ids='all',\n",
    "    output_format=('S', 'E', 'D'),\n",
    "    data_filter='',\n",
    "    plot_function=plotly_meanstd_scatter,\n",
    "    plot_function_config=plot_config,\n",
    "    state_backup_name='state_backup_89044297',\n",
    "    state_backup_variable_filter=['experiment_ids', 'repetition_ids'],  # only save these variables as backup\n",
    "    is_datasources_selection=False,\n",
    "    is_output_format_selection=False,\n",
    "    is_data_filter_selection=False,\n",
    "    is_plot_function_selection=False,\n",
    "    is_plot_function_config_editor=False,\n",
    "    is_code_producer=False) \n",
    "display(selection_widget)\n",
    "selection_widget.plot_data()"
   ]
  },
  {
   "cell_type": "code",
   "execution_count": 5,
   "metadata": {},
   "outputs": [
    {
     "data": {
      "application/vnd.jupyter.widget-view+json": {
       "model_id": "d77a911e9b1349e68382f6242730445d",
       "version_major": 2,
       "version_minor": 0
      },
      "text/plain": [
       "ExperimentDataPlotSelectionWidget(children=(HBox(children=(Label(value='Experiments:', layout=Layout(min_width…"
      ]
     },
     "metadata": {},
     "output_type": "display_data"
    },
    {
     "data": {
      "application/vnd.jupyter.widget-view+json": {
       "model_id": "cbfe4417898d4530a50f5e1e21fc5288",
       "version_major": 2,
       "version_minor": 0
      },
      "text/plain": [
       "Output()"
      ]
     },
     "metadata": {},
     "output_type": "display_data"
    }
   ],
   "source": [
    "# Plotting of ['rollout_ep_rew_mean'] \n",
    "import exputils as eu\n",
    "from exputils.gui.jupyter.plotly_meanstd_scatter import plotly_meanstd_scatter\n",
    "\n",
    "plot_config = eu.AttrDict(\n",
    "layout = dict(\n",
    "    xaxis = dict(\n",
    "        title = 'Timesteps (x 10^3)', \n",
    "        range = [None, None]),\n",
    "    yaxis = dict(\n",
    "        title = 'Reward', \n",
    "        range = [None, None]),\n",
    "),\n",
    "moving_average = dict(\n",
    "    n = 1\n",
    "),\n",
    "data_filter = dict(\n",
    "    every_nth_step = dict(\n",
    "        step = 1,\n",
    "        include_final_step = False\n",
    "    ),\n",
    "),        \n",
    "default_group_label = 'rep <group_idx>')\n",
    "\n",
    "selection_widget = eu.gui.jupyter.ExperimentDataPlotSelectionWidget(\n",
    "    experiment_data_loader,\n",
    "    datasources=['rollout_ep_rew_mean'],\n",
    "    experiment_ids='all',\n",
    "    repetition_ids='all',\n",
    "    output_format=('S', 'E', 'D'),\n",
    "    data_filter='',\n",
    "    plot_function=plotly_meanstd_scatter,\n",
    "    plot_function_config=plot_config,\n",
    "    state_backup_name='state_backup_88892512',\n",
    "    state_backup_variable_filter=['experiment_ids', 'repetition_ids'],  # only save these variables as backup\n",
    "    is_datasources_selection=False,\n",
    "    is_output_format_selection=False,\n",
    "    is_data_filter_selection=False,\n",
    "    is_plot_function_selection=False,\n",
    "    is_plot_function_config_editor=False,\n",
    "    is_code_producer=False) \n",
    "display(selection_widget)\n",
    "selection_widget.plot_data()"
   ]
  },
  {
   "cell_type": "code",
   "execution_count": 4,
   "metadata": {},
   "outputs": [
    {
     "data": {
      "application/vnd.jupyter.widget-view+json": {
       "model_id": "42739230397446febed574a2c4aee0ae",
       "version_major": 2,
       "version_minor": 0
      },
      "text/plain": [
       "ExperimentDataPlotSelectionWidget(children=(HBox(children=(Label(value='Experiments:', layout=Layout(min_width…"
      ]
     },
     "metadata": {},
     "output_type": "display_data"
    },
    {
     "data": {
      "application/vnd.jupyter.widget-view+json": {
       "model_id": "a56ece6544634c6a854bd8db70cd4a7e",
       "version_major": 2,
       "version_minor": 0
      },
      "text/plain": [
       "Output()"
      ]
     },
     "metadata": {},
     "output_type": "display_data"
    }
   ],
   "source": [
    "# Plotting of ['reward_per_timestep'] \n",
    "import exputils as eu\n",
    "from exputils.gui.jupyter.plotly_meanstd_scatter import plotly_meanstd_scatter\n",
    "\n",
    "plot_config = eu.AttrDict(\n",
    "layout = dict(\n",
    "    xaxis = dict(\n",
    "        title = 'Timesteps (x 10^3)', \n",
    "        range = [None, None]),\n",
    "    yaxis = dict(\n",
    "        title = 'Reward', \n",
    "        range = [None, None]),\n",
    "),\n",
    "moving_average = dict(\n",
    "    n = 1\n",
    "),\n",
    "data_filter = dict(\n",
    "    every_nth_step = dict(\n",
    "        step = 1,\n",
    "        include_final_step = False\n",
    "    ),\n",
    "),        \n",
    "default_group_label = 'rep <group_idx>')\n",
    "\n",
    "selection_widget = eu.gui.jupyter.ExperimentDataPlotSelectionWidget(\n",
    "    experiment_data_loader,\n",
    "    datasources=['reward_per_timestep'],\n",
    "    experiment_ids='all',\n",
    "    repetition_ids='all',\n",
    "    output_format=('S', 'E', 'D'),\n",
    "    data_filter='',\n",
    "    plot_function=plotly_meanstd_scatter,\n",
    "    plot_function_config=plot_config,\n",
    "    state_backup_name='state_backup_88892468',\n",
    "    state_backup_variable_filter=['experiment_ids', 'repetition_ids'],  # only save these variables as backup\n",
    "    is_datasources_selection=False,\n",
    "    is_output_format_selection=False,\n",
    "    is_data_filter_selection=False,\n",
    "    is_plot_function_selection=False,\n",
    "    is_plot_function_config_editor=False,\n",
    "    is_code_producer=False) \n",
    "display(selection_widget)\n",
    "selection_widget.plot_data()"
   ]
  },
  {
   "cell_type": "code",
   "execution_count": null,
   "metadata": {},
   "outputs": [],
   "source": [
    "# Plotting of ['reward_per_timestep'] \n",
    "import exputils as eu\n",
    "from exputils.gui.jupyter.plotly_meanstd_scatter import plotly_meanstd_scatter\n",
    "\n",
    "plot_config = eu.AttrDict(\n",
    "layout = dict(\n",
    "    xaxis = dict(\n",
    "        title = 'Timesteps (x 10^3)', \n",
    "        range = [None, None]),\n",
    "    yaxis = dict(\n",
    "        title = 'Reward', \n",
    "        range = [None, None]),\n",
    "),\n",
    "moving_average = dict(\n",
    "    n = 1\n",
    "),\n",
    "data_filter = dict(\n",
    "    every_nth_step = dict(\n",
    "        step = 1,\n",
    "        include_final_step = False\n",
    "    ),\n",
    "),        \n",
    "default_group_label = 'rep <group_idx>')\n",
    "\n",
    "selection_widget = eu.gui.jupyter.ExperimentDataPlotSelectionWidget(\n",
    "    experiment_data_loader,\n",
    "    datasources=['reward_per_timestep'],\n",
    "    experiment_ids='all',\n",
    "    repetition_ids='all',\n",
    "    output_format=('S', 'E', 'D'),\n",
    "    data_filter='',\n",
    "    plot_function=plotly_meanstd_scatter,\n",
    "    plot_function_config=plot_config,\n",
    "    state_backup_name='state_backup_88892465',\n",
    "    state_backup_variable_filter=['experiment_ids', 'repetition_ids'],  # only save these variables as backup\n",
    "    is_datasources_selection=False,\n",
    "    is_output_format_selection=False,\n",
    "    is_data_filter_selection=False,\n",
    "    is_plot_function_selection=False,\n",
    "    is_plot_function_config_editor=False,\n",
    "    is_code_producer=False) \n",
    "display(selection_widget)\n",
    "selection_widget.plot_data()"
   ]
  },
  {
   "cell_type": "markdown",
   "metadata": {
    "heading_collapsed": true
   },
   "source": [
    "# Test Accuracy"
   ]
  },
  {
   "cell_type": "code",
   "execution_count": 3,
   "metadata": {
    "code_folding": [
     0
    ],
    "hidden": true
   },
   "outputs": [
    {
     "data": {
      "application/vnd.jupyter.widget-view+json": {
       "model_id": "6cb880fbe0d34a318bf19c193ea64da9",
       "version_major": 2,
       "version_minor": 0
      },
      "text/plain": [
       "ExperimentDataPlotSelectionWidget(children=(HBox(children=(Label(value='Experiments:', layout=Layout(min_width…"
      ]
     },
     "metadata": {},
     "output_type": "display_data"
    },
    {
     "data": {
      "application/vnd.jupyter.widget-view+json": {
       "model_id": "1eda4440b3ee4d559526475dcf4eb018",
       "version_major": 2,
       "version_minor": 0
      },
      "text/plain": [
       "Output()"
      ]
     },
     "metadata": {},
     "output_type": "display_data"
    }
   ],
   "source": [
    "# Plotting of ['test_accuracy'] \n",
    "import exputils as eu\n",
    "from exputils.gui.jupyter.plotly_meanstd_scatter import plotly_meanstd_scatter\n",
    "\n",
    "plot_config = eu.AttrDict(\n",
    "layout = dict(\n",
    "    xaxis = dict(\n",
    "        title = '', \n",
    "        range = [None, None]),\n",
    "    yaxis = dict(\n",
    "        title = '', \n",
    "        range = [None, None]),\n",
    "),\n",
    "moving_average = dict(\n",
    "    n = 1\n",
    "),\n",
    "data_filter = dict(\n",
    "    every_nth_step = dict(\n",
    "        step = 1,\n",
    "        include_final_step = False\n",
    "    ),\n",
    "),        \n",
    "default_group_label = 'rep <group_idx>')\n",
    "\n",
    "selection_widget = eu.gui.jupyter.ExperimentDataPlotSelectionWidget(experiment_data_loader, datasources=['test_accuracy'], experiment_ids='all', repetition_ids='all', output_format=('S', 'E', 'D'), data_filter='', plot_function=plotly_meanstd_scatter, plot_function_config=plot_config, state_backup_name='state_backup_73729335', state_backup_variable_filter=['experiment_ids', 'repetition_ids'], is_datasources_selection=False, is_output_format_selection=False, is_data_filter_selection=False, is_plot_function_selection=False, is_plot_function_config_editor=False, is_code_producer=False)\n",
    "display(selection_widget)\n",
    "selection_widget.plot_data()"
   ]
  },
  {
   "cell_type": "markdown",
   "metadata": {},
   "source": [
    "# Final Test Accuracy"
   ]
  },
  {
   "cell_type": "code",
   "execution_count": 4,
   "metadata": {
    "code_folding": [
     0
    ]
   },
   "outputs": [
    {
     "data": {
      "application/vnd.jupyter.widget-view+json": {
       "model_id": "66ab6859a0ba4bcfb33c1cc170cf170f",
       "version_major": 2,
       "version_minor": 0
      },
      "text/plain": [
       "ExperimentDataPlotSelectionWidget(children=(HBox(children=(Label(value='Experiments:', layout=Layout(min_width…"
      ]
     },
     "metadata": {},
     "output_type": "display_data"
    },
    {
     "data": {
      "application/vnd.jupyter.widget-view+json": {
       "model_id": "884b07a8e8714fe3b17e167d56b76bb4",
       "version_major": 2,
       "version_minor": 0
      },
      "text/plain": [
       "Output()"
      ]
     },
     "metadata": {},
     "output_type": "display_data"
    }
   ],
   "source": [
    "# Plotting of ['test_accuracy[-1]'] \n",
    "import exputils as eu\n",
    "from exputils.gui.jupyter.plotly_box import plotly_box\n",
    "\n",
    "plot_config = eu.AttrDict(\n",
    "layout = dict(\n",
    "    xaxis = dict(\n",
    "        title = '', \n",
    "        range = [None, None] \n",
    "        ),\n",
    "    yaxis = dict(\n",
    "        title = '', \n",
    "        range = [None, None] \n",
    "        )\n",
    "    ))\n",
    "\n",
    "selection_widget = eu.gui.jupyter.ExperimentDataPlotSelectionWidget(experiment_data_loader, datasources=['test_accuracy[-1]'], experiment_ids='all', repetition_ids='all', output_format=('S', 'E', 'D'), data_filter='', plot_function=plotly_box, plot_function_config=plot_config, state_backup_name='state_backup_73729397', state_backup_variable_filter=['experiment_ids', 'repetition_ids'], is_datasources_selection=False, is_output_format_selection=False, is_data_filter_selection=False, is_plot_function_selection=False, is_plot_function_config_editor=False, is_code_producer=False)\n",
    "display(selection_widget)\n",
    "selection_widget.plot_data()"
   ]
  },
  {
   "cell_type": "code",
   "execution_count": 5,
   "metadata": {
    "code_folding": [
     0
    ]
   },
   "outputs": [
    {
     "data": {
      "application/vnd.jupyter.widget-view+json": {
       "model_id": "37a43ff71a074d2498f15a7a4b87911e",
       "version_major": 2,
       "version_minor": 0
      },
      "text/plain": [
       "ExperimentDataPlotSelectionWidget(children=(HBox(children=(Label(value='Experiments:', layout=Layout(min_width…"
      ]
     },
     "metadata": {},
     "output_type": "display_data"
    },
    {
     "data": {
      "application/vnd.jupyter.widget-view+json": {
       "model_id": "1bb12fe25d864bf9bcdb6a9169ac49b3",
       "version_major": 2,
       "version_minor": 0
      },
      "text/plain": [
       "Output()"
      ]
     },
     "metadata": {},
     "output_type": "display_data"
    }
   ],
   "source": [
    "# Plotting of ['test_accuracy[-1]'] \n",
    "import exputils as eu\n",
    "from exputils.gui.jupyter.tabulate_pairwise import tabulate_pairwise\n",
    "\n",
    "plot_config = eu.AttrDict(\n",
    "pairwise_function = eu.misc.mannwhitneyu_pvalue,\n",
    "pairwise_mode = 'upper_triangle', # which pairs are compared? 'full', 'full_not_identity', 'upper_triangle', 'upper_triangle_not_identity', 'lower_triangle', 'lower_triangle_not_identity'\n",
    "tabulate=eu.AttrDict(\n",
    "            tablefmt='html', # 'html' or 'latex'\n",
    "            numalign='right',\n",
    "        ),\n",
    "cell_format = '{}',\n",
    "top_left_cell_content = 'p-value',\n",
    "labels=[])\n",
    "\n",
    "selection_widget = eu.gui.jupyter.ExperimentDataPlotSelectionWidget(experiment_data_loader, datasources=['test_accuracy[-1]'], experiment_ids='all', repetition_ids='all', output_format=('S', 'E', 'D'), data_filter='', plot_function=tabulate_pairwise, plot_function_config=plot_config, state_backup_name='state_backup_73729444', state_backup_variable_filter=['experiment_ids', 'repetition_ids'], is_datasources_selection=False, is_output_format_selection=False, is_data_filter_selection=False, is_plot_function_selection=False, is_plot_function_config_editor=False, is_code_producer=False)\n",
    "display(selection_widget)\n",
    "selection_widget.plot_data()"
   ]
  }
 ],
 "metadata": {
  "kernelspec": {
   "display_name": "Python 3 (ipykernel)",
   "language": "python",
   "name": "python3"
  },
  "language_info": {
   "codemirror_mode": {
    "name": "ipython",
    "version": 3
   },
   "file_extension": ".py",
   "mimetype": "text/x-python",
   "name": "python",
   "nbconvert_exporter": "python",
   "pygments_lexer": "ipython3",
   "version": "3.8.13"
  }
 },
 "nbformat": 4,
 "nbformat_minor": 4
}
